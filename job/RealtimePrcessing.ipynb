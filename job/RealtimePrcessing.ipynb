{
 "cells": [
  {
   "cell_type": "code",
   "execution_count": 2,
   "id": "initial_id",
   "metadata": {
    "collapsed": true,
    "ExecuteTime": {
     "end_time": "2024-08-23T04:46:06.190547Z",
     "start_time": "2024-08-23T04:46:05.618634Z"
    }
   },
   "outputs": [],
   "source": [
    "import crawl.CrawlKosdaqInvestors as cki\n",
    "import crawl.CrawlKosdaqPrice as ckp\n",
    "\n",
    "# test = cki.get_realtime_price()\n",
    "# test\n",
    "\n",
    "test_crawled = ckp.get_kosdaq_daily_price()\n",
    "ckp.save_data(crawled=test_crawled)"
   ]
  },
  {
   "cell_type": "code",
   "outputs": [
    {
     "name": "stdout",
     "output_type": "stream",
     "text": [
      "20240823\n"
     ]
    }
   ],
   "source": [
    "from datetime import datetime\n",
    "\n",
    "now = datetime.now()\n",
    "# formattedDate = now.strftime(\"%Y%m%d_%H%M%S\")\n",
    "formattedDate = now.strftime(\"%Y%m%d\")\n",
    "print(formattedDate)\n"
   ],
   "metadata": {
    "collapsed": false,
    "ExecuteTime": {
     "end_time": "2024-08-23T06:30:13.877773Z",
     "start_time": "2024-08-23T06:30:13.872438Z"
    }
   },
   "id": "e6bd6af9647f2b91",
   "execution_count": 3
  },
  {
   "cell_type": "code",
   "outputs": [],
   "source": [],
   "metadata": {
    "collapsed": false,
    "ExecuteTime": {
     "end_time": "2024-08-23T05:22:42.573128Z",
     "start_time": "2024-08-23T05:22:42.568102Z"
    }
   },
   "id": "8dcf39e166181bf4",
   "execution_count": 4
  },
  {
   "cell_type": "code",
   "outputs": [],
   "source": [],
   "metadata": {
    "collapsed": false
   },
   "id": "63d10ee2a6c598fc"
  }
 ],
 "metadata": {
  "kernelspec": {
   "display_name": "Python 3",
   "language": "python",
   "name": "python3"
  },
  "language_info": {
   "codemirror_mode": {
    "name": "ipython",
    "version": 2
   },
   "file_extension": ".py",
   "mimetype": "text/x-python",
   "name": "python",
   "nbconvert_exporter": "python",
   "pygments_lexer": "ipython2",
   "version": "2.7.6"
  }
 },
 "nbformat": 4,
 "nbformat_minor": 5
}
