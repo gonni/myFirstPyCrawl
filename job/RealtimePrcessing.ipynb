{
 "cells": [
  {
   "cell_type": "code",
   "id": "initial_id",
   "metadata": {
    "collapsed": true,
    "ExecuteTime": {
     "end_time": "2024-08-24T04:32:53.341062Z",
     "start_time": "2024-08-24T04:32:52.288568Z"
    }
   },
   "source": [
    "import crawl.CrawlKosdaqInvestors as cki\n",
    "import crawl.CrawlKosdaqPrice as ckp\n",
    "\n",
    "# test = cki.get_realtime_price()\n",
    "# test\n",
    "\n",
    "test_crawled = ckp.get_kosdaq_daily_price()\n",
    "ckp.save_data(crawled=test_crawled)"
   ],
   "outputs": [
    {
     "name": "stdout",
     "output_type": "stream",
     "text": [
      "activate crawl package\n",
      "Initializing utils ...\n",
      "76200000000\n",
      "save crawled data ..\n",
      "https://finance.naver.com/sise/investorDealTrendDay.naver?bizdate=20240823&sosok=02&page=2\n",
      "{'date': '24.08.08', 'personal': 2445.0, 'foreigner': -1988.0, 'company': -615.0, 'finance': -472.0, 'insurance': -37.0, 'toosin': 14.0, 'bank': 2.0, 'etc_fin': 0.0, 'gov_fund': -122.0, 'etc_comp': 158.0}\n",
      "{'date': '24.08.07', 'personal': 1210.0, 'foreigner': -1583.0, 'company': 370.0, 'finance': -722.0, 'insurance': 108.0, 'toosin': 599.0, 'bank': -5.0, 'etc_fin': 21.0, 'gov_fund': 369.0, 'etc_comp': 3.0}\n",
      "{'date': '24.08.06', 'personal': -4918.0, 'foreigner': 3577.0, 'company': 1252.0, 'finance': 972.0, 'insurance': -34.0, 'toosin': 154.0, 'bank': -2.0, 'etc_fin': -62.0, 'gov_fund': 224.0, 'etc_comp': 89.0}\n",
      "{'date': '24.08.05', 'personal': -6789.0, 'foreigner': 5457.0, 'company': 1186.0, 'finance': 2707.0, 'insurance': -56.0, 'toosin': -1377.0, 'bank': -16.0, 'etc_fin': -13.0, 'gov_fund': -60.0, 'etc_comp': 146.0}\n",
      "{'date': '24.08.02', 'personal': 2438.0, 'foreigner': -1505.0, 'company': -897.0, 'finance': 867.0, 'insurance': -170.0, 'toosin': -1189.0, 'bank': -23.0, 'etc_fin': 4.0, 'gov_fund': -386.0, 'etc_comp': -36.0}\n",
      "{'date': '24.08.01', 'personal': -629.0, 'foreigner': 328.0, 'company': 313.0, 'finance': 203.0, 'insurance': 9.0, 'toosin': 164.0, 'bank': -7.0, 'etc_fin': -4.0, 'gov_fund': -52.0, 'etc_comp': -12.0}\n",
      "{'date': '24.07.31', 'personal': 479.0, 'foreigner': -604.0, 'company': 109.0, 'finance': 546.0, 'insurance': -49.0, 'toosin': -192.0, 'bank': -2.0, 'etc_fin': -4.0, 'gov_fund': -191.0, 'etc_comp': 16.0}\n",
      "{'date': '24.07.30', 'personal': 852.0, 'foreigner': -1026.0, 'company': 344.0, 'finance': 30.0, 'insurance': -18.0, 'toosin': 448.0, 'bank': -3.0, 'etc_fin': -5.0, 'gov_fund': -108.0, 'etc_comp': -170.0}\n",
      "{'date': '24.07.29', 'personal': -1452.0, 'foreigner': 1043.0, 'company': 463.0, 'finance': 503.0, 'insurance': -15.0, 'toosin': 142.0, 'bank': -1.0, 'etc_fin': -7.0, 'gov_fund': -159.0, 'etc_comp': -54.0}\n",
      "{'date': '24.07.26', 'personal': -957.0, 'foreigner': 421.0, 'company': 562.0, 'finance': 942.0, 'insurance': -58.0, 'toosin': -199.0, 'bank': -9.0, 'etc_fin': -28.0, 'gov_fund': -87.0, 'etc_comp': -26.0}\n"
     ]
    }
   ],
   "execution_count": 1
  },
  {
   "cell_type": "code",
   "source": [
    "from datetime import datetime\n",
    "\n",
    "now = datetime.now()\n",
    "# formattedDate = now.strftime(\"%Y%m%d_%H%M%S\")\n",
    "formattedDate = now.strftime(\"%Y%m%d\")\n",
    "# print(formattedDate)\n",
    "\n",
    "def getTodayYYYYMMDD():\n",
    "    return datetime.now().strftime(\"%Y%m%d\")\n",
    "\n",
    "print('->', getTodayYYYYMMDD())"
   ],
   "metadata": {
    "collapsed": false,
    "ExecuteTime": {
     "end_time": "2024-08-24T04:41:03.974977Z",
     "start_time": "2024-08-24T04:41:03.972286Z"
    }
   },
   "id": "e6bd6af9647f2b91",
   "outputs": [
    {
     "name": "stdout",
     "output_type": "stream",
     "text": [
      "-> 20240824\n"
     ]
    }
   ],
   "execution_count": 2
  },
  {
   "cell_type": "code",
   "outputs": [],
   "source": [],
   "metadata": {
    "collapsed": false,
    "ExecuteTime": {
     "end_time": "2024-08-23T05:22:42.573128Z",
     "start_time": "2024-08-23T05:22:42.568102Z"
    }
   },
   "id": "8dcf39e166181bf4",
   "execution_count": 4
  },
  {
   "cell_type": "code",
   "outputs": [],
   "source": [],
   "metadata": {
    "collapsed": false
   },
   "id": "63d10ee2a6c598fc",
   "execution_count": null
  }
 ],
 "metadata": {
  "kernelspec": {
   "display_name": "Python 3",
   "language": "python",
   "name": "python3"
  },
  "language_info": {
   "codemirror_mode": {
    "name": "ipython",
    "version": 2
   },
   "file_extension": ".py",
   "mimetype": "text/x-python",
   "name": "python",
   "nbconvert_exporter": "python",
   "pygments_lexer": "ipython2",
   "version": "2.7.6"
  }
 },
 "nbformat": 4,
 "nbformat_minor": 5
}
