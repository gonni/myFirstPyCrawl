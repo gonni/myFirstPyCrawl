{
 "cells": [
  {
   "cell_type": "code",
   "id": "initial_id",
   "metadata": {
    "collapsed": true,
    "ExecuteTime": {
     "end_time": "2024-08-18T02:50:42.581365Z",
     "start_time": "2024-08-18T02:50:42.577895Z"
    }
   },
   "source": [
    "# from datetime import date\n",
    "# class User:\n",
    "#     def __init__(\n",
    "#             self, id: int, name: str, birthdate: date, admin: bool = False\n",
    "#     ) -> None:\n",
    "#         self.id = id\n",
    "#         self.name = name\n",
    "#         self.birthdate = birthdate\n",
    "#         self.admin = admin\n",
    "#         \n",
    "#     def __repr__(self) -> str:\n",
    "#         return (\n",
    "#                 self.__class__.__qualname__ + f\"(id={self.id!r}, name={self.name!r}, \"\n",
    "#                                               f\"birthdate={self.birthdate!r}, admin={self.admin!r})\"\n",
    "#         )\n",
    "#     def __eq__(self, other) -> bool:\n",
    "#         if other.__class__ is self.__class__:\n",
    "#             return (self.id, self.name, self.birthdate, self.admin) == (\n",
    "#                 other.id,\n",
    "#                 other.name,\n",
    "#                 other.birthdate,\n",
    "#                 other.admin,\n",
    "#             )\n",
    "#         return False\n",
    "\n",
    "from dataclasses import dataclass\n",
    "from datetime import date\n",
    "\n",
    "@dataclass\n",
    "class User:\n",
    "    id: int\n",
    "    name: str\n",
    "    birthdate: date\n",
    "    admin: bool = False"
   ],
   "outputs": [],
   "execution_count": 7
  },
  {
   "metadata": {
    "ExecuteTime": {
     "end_time": "2024-08-18T02:50:44.014427Z",
     "start_time": "2024-08-18T02:50:44.008998Z"
    }
   },
   "cell_type": "code",
   "source": [
    "user = User(1, \"John\", date(1999, 12, 31), True)\n",
    "user\n",
    "\n",
    "user1 = User(id=1, name=\"Steve Jobs\", birthdate=date(1955, 2, 24))\n",
    "user2 = User(id=1, name=\"Steve Jobs\", birthdate=date(1955, 2, 24))\n",
    "user1 == user2"
   ],
   "id": "370994e3def5dc69",
   "outputs": [
    {
     "data": {
      "text/plain": [
       "True"
      ]
     },
     "execution_count": 8,
     "metadata": {},
     "output_type": "execute_result"
    }
   ],
   "execution_count": 8
  },
  {
   "metadata": {},
   "cell_type": "code",
   "outputs": [],
   "execution_count": null,
   "source": "",
   "id": "def2cff86cc80f31"
  }
 ],
 "metadata": {
  "kernelspec": {
   "display_name": "Python 3",
   "language": "python",
   "name": "python3"
  },
  "language_info": {
   "codemirror_mode": {
    "name": "ipython",
    "version": 2
   },
   "file_extension": ".py",
   "mimetype": "text/x-python",
   "name": "python",
   "nbconvert_exporter": "python",
   "pygments_lexer": "ipython2",
   "version": "2.7.6"
  }
 },
 "nbformat": 4,
 "nbformat_minor": 5
}
