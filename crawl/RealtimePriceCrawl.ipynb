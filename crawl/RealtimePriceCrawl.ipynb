{
 "cells": [
  {
   "cell_type": "code",
   "id": "initial_id",
   "metadata": {
    "collapsed": true,
    "ExecuteTime": {
     "end_time": "2024-08-19T01:15:28.214944Z",
     "start_time": "2024-08-19T01:15:28.138125Z"
    }
   },
   "source": [
    "from typing import Optional, List\n",
    "from bs4 import BeautifulSoup, Tag\n",
    "import requests\n",
    "\n",
    "def get_realtime_price(url: str = 'https://finance.naver.com/sise/sise_index.naver?code=KOSDAQ') :\n",
    "    req = requests.get(url, headers={'User-agent': 'Mozilla/5.0'})\n",
    "    dom = BeautifulSoup(req.text, \"html.parser\")\n",
    "    cur_price = dom.select_one('em#now_value').text\n",
    "    cur_volume = dom.select_one('td#quant').text\n",
    "    cur_volume_price = dom.select_one('td#amount').text\n",
    "    cur_volume_personal = dom.select_one('dl.lst_kos_info').select_one(':nth-child(2)').select_one('span').text\n",
    "    cur_volume_forg = dom.select_one('dl.lst_kos_info').select_one(':nth-child(3)').select_one('span').text\n",
    "    cur_volume_instfund = dom.select_one('dl.lst_kos_info').select_one(':nth-child(4)').select_one('span').text\n",
    "\n",
    "    cur_volume_prog_pos = dom.select_one('dl.lst_kos_info').select_one(':nth-child(6)').select_one('span').text\n",
    "    cur_volume_prog_neg = dom.select_one('dl.lst_kos_info').select_one(':nth-child(7)').select_one('span').text\n",
    "    \n",
    "    print(cur_volume_personal + '|' + cur_volume_forg + '|' + cur_volume_instfund + '|' \n",
    "          + cur_volume_prog_pos + '|' + cur_volume_prog_neg)\n",
    "    print(cur_price + \"|\" + cur_volume + \"|\" + cur_volume_price + \"|\" )\n",
    "    \n",
    "\n",
    "get_realtime_price()\n",
    "    "
   ],
   "outputs": [
    {
     "name": "stdout",
     "output_type": "stream",
     "text": [
      "+813억|-804억|-25억|+7억|-793억\n",
      "784.37|394,013|2,761,851|\n"
     ]
    }
   ],
   "execution_count": 21
  },
  {
   "metadata": {},
   "cell_type": "code",
   "outputs": [],
   "execution_count": null,
   "source": "",
   "id": "4f43c4ff491efb1"
  }
 ],
 "metadata": {
  "kernelspec": {
   "display_name": "Python 3",
   "language": "python",
   "name": "python3"
  },
  "language_info": {
   "codemirror_mode": {
    "name": "ipython",
    "version": 2
   },
   "file_extension": ".py",
   "mimetype": "text/x-python",
   "name": "python",
   "nbconvert_exporter": "python",
   "pygments_lexer": "ipython2",
   "version": "2.7.6"
  }
 },
 "nbformat": 4,
 "nbformat_minor": 5
}
