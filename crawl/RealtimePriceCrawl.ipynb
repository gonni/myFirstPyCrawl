{
 "cells": [
  {
   "cell_type": "code",
   "id": "initial_id",
   "metadata": {
    "collapsed": true,
    "ExecuteTime": {
     "end_time": "2024-08-20T00:04:03.473426Z",
     "start_time": "2024-08-20T00:04:03.320870Z"
    }
   },
   "source": [
    "from typing import Optional, List\n",
    "from bs4 import BeautifulSoup, Tag\n",
    "import requests\n",
    "\n",
    "def get_realtime_price(url: str = 'https://finance.naver.com/sise/sise_index.naver?code=KOSDAQ') :\n",
    "    req = requests.get(url, headers={'User-agent': 'Mozilla/5.0'})\n",
    "    dom = BeautifulSoup(req.text, \"html.parser\")\n",
    "    cur_price = dom.select_one('em#now_value').text\n",
    "    cur_volume = dom.select_one('td#quant').text\n",
    "    cur_volume_price = dom.select_one('td#amount').text\n",
    "    cur_volume_personal = dom.select_one('dl.lst_kos_info').select_one(':nth-child(2)').select_one('span').text\n",
    "    cur_volume_forg = dom.select_one('dl.lst_kos_info').select_one(':nth-child(3)').select_one('span').text\n",
    "    cur_volume_instfund = dom.select_one('dl.lst_kos_info').select_one(':nth-child(4)').select_one('span').text\n",
    "\n",
    "    cur_volume_prog_pos = dom.select_one('dl.lst_kos_info').select_one(':nth-child(6)').select_one('span').text\n",
    "    cur_volume_prog_neg = dom.select_one('dl.lst_kos_info').select_one(':nth-child(7)').select_one('span').text\n",
    "    \n",
    "    print(cur_volume_personal + '|' + cur_volume_forg + '|' + cur_volume_instfund + '|' \n",
    "          + cur_volume_prog_pos + '|' + cur_volume_prog_neg)\n",
    "    print(cur_price + \"|\" + cur_volume + \"|\" + cur_volume_price + \"|\" )\n",
    "    \n",
    "\n",
    "get_realtime_price()\n",
    "    "
   ],
   "outputs": [
    {
     "name": "stdout",
     "output_type": "stream",
     "text": [
      "+270억|-112억|-108억|-31억|-142억\n",
      "784.20|65,388|490,898|\n"
     ]
    }
   ],
   "execution_count": 23
  },
  {
   "metadata": {
    "ExecuteTime": {
     "end_time": "2024-08-20T01:33:00.345441Z",
     "start_time": "2024-08-20T01:33:00.248493Z"
    }
   },
   "cell_type": "code",
   "source": [
    "# 코스닥 종가\n",
    "from typing import Optional, List\n",
    "from bs4 import BeautifulSoup, Tag\n",
    "import requests\n",
    "from dataclasses import dataclass\n",
    "from utils.data_type_converter import convert_number\n",
    "\n",
    "@dataclass\n",
    "class RealtimePriceCrawl:\n",
    "    date: str\n",
    "    closing_price: float\n",
    "    up_down_per: float\n",
    "    volume: float\n",
    "    volume_amt: float\n",
    "\n",
    "def get_kosdaq_daily_price(page = 1) :\n",
    "    url = 'https://finance.naver.com/sise/sise_index_day.naver?code=KOSDAQ&page=%s' % page\n",
    "    req = requests.get(url, headers={'User-agent': 'Mozilla/5.0'})\n",
    "    dom = BeautifulSoup(req.text, \"html.parser\")\n",
    "    \n",
    "    v_date = dom.select('tr > td.date')\n",
    "    \n",
    "    res: List[RealtimePriceCrawl] = []\n",
    "    for v in v_date:\n",
    "        # print('---------------------------------------')\n",
    "        # print(v.parent.select_one(':nth-child(1)').text)\n",
    "        # print(v.parent.select_one(':nth-child(2)').text)\n",
    "        # print(v.parent.select_one(':nth-child(4)').text.strip())\n",
    "        # print(v.parent.select_one(':nth-child(5)').text)\n",
    "        # print(v.parent.select_one(':nth-child(6)').text)\n",
    "        res.append(RealtimePriceCrawl(\n",
    "            date=v.parent.select_one(':nth-child(1)').text, \n",
    "            closing_price=convert_number(v.parent.select_one(':nth-child(2)').text),\n",
    "            up_down_per=convert_number(v.parent.select_one(':nth-child(4)').text.strip()),\n",
    "            volume=convert_number(v.parent.select_one(':nth-child(5)').text),\n",
    "            volume_amt=convert_number(v.parent.select_one(':nth-child(6)').text)\n",
    "            )\n",
    "        )\n",
    "    return res\n",
    "    \n",
    "get_kosdaq_daily_price()"
   ],
   "id": "4f43c4ff491efb1",
   "outputs": [
    {
     "data": {
      "text/plain": [
       "[RealtimePriceCrawl(date='2024.08.20', closing_price=784.18, up_down_per=0.86, volume=430507.0, volume_amt=3436160.0),\n",
       " RealtimePriceCrawl(date='2024.08.19', closing_price=777.47, up_down_per=-1.13, volume=1135628.0, volume_amt=7653033.0),\n",
       " RealtimePriceCrawl(date='2024.08.16', closing_price=786.33, up_down_per=1.22, volume=1080402.0, volume_amt=8000416.0),\n",
       " RealtimePriceCrawl(date='2024.08.14', closing_price=776.83, up_down_per=1.56, volume=1111020.0, volume_amt=7691492.0),\n",
       " RealtimePriceCrawl(date='2024.08.13', closing_price=764.86, up_down_per=-1.02, volume=1170514.0, volume_amt=7661966.0),\n",
       " RealtimePriceCrawl(date='2024.08.12', closing_price=772.72, up_down_per=1.08, volume=885108.0, volume_amt=6850312.0)]"
      ]
     },
     "execution_count": 45,
     "metadata": {},
     "output_type": "execute_result"
    }
   ],
   "execution_count": 45
  },
  {
   "metadata": {
    "ExecuteTime": {
     "end_time": "2024-08-20T02:22:37.415536Z",
     "start_time": "2024-08-20T02:22:37.409990Z"
    }
   },
   "cell_type": "code",
   "source": [
    "import pymysql\n",
    "\n",
    "def save_data(crawled: List[RealtimePriceCrawl] = [], type_code = 'KOSDAQ'):\n",
    "    conn = pymysql.connect(host='localhost', user='root', password='root', db='zio', charset='utf8mb4')\n",
    "    cur = conn.cursor()\n",
    "    \n",
    "    sql = f\"\"\"\n",
    "        INSERT INTO CRAWL_MARKET_DAILY_DATA(TYPE_CODE, DATEON, CLOSING_PRICE, UP_DOWN_PER, VOLUME, VOLUME_AMT)\n",
    "        VALUES(%s, %s, %s, %s, %s, %s) as new\n",
    "        ON DUPLICATE KEY UPDATE \n",
    "            TYPE_CODE=new.TYPE_CODE,\n",
    "            DATEON=new.DATEON,\n",
    "            CLOSING_PRICE=new.CLOSING_PRICE,\n",
    "            UP_DOWN_PER=new.UP_DOWN_PER,\n",
    "            VOLUME=new.VOLUME,\n",
    "            VOLUME_AMT=new.VOLUME_AMT\n",
    "    \"\"\"\n",
    "    \n",
    "    for row in crawled:\n",
    "        try:\n",
    "            cur.execute(sql, (type_code, row.date, row.closing_price, row.up_down_per, row.volume, row.volume_amt))\n",
    "        except Exception as e :\n",
    "            print('duplicated key error --> ' + str(e))\n",
    "    \n",
    "    conn.commit()\n",
    "    conn.close()\n",
    "\n"
   ],
   "id": "2715bfedae6a05bc",
   "outputs": [],
   "execution_count": 66
  },
  {
   "metadata": {
    "ExecuteTime": {
     "end_time": "2024-08-20T02:25:16.349455Z",
     "start_time": "2024-08-20T02:25:16.257841Z"
    }
   },
   "cell_type": "code",
   "source": [
    "crawled = get_kosdaq_daily_price()\n",
    "print('crawled : %s' % len(crawled))\n",
    "save_data(crawled, 'KOSDAQ')\n",
    "\n"
   ],
   "id": "b23418e4eefb352a",
   "outputs": [
    {
     "name": "stdout",
     "output_type": "stream",
     "text": [
      "crawled : 6\n"
     ]
    }
   ],
   "execution_count": 68
  },
  {
   "metadata": {
    "ExecuteTime": {
     "end_time": "2024-08-20T03:59:14.429388Z",
     "start_time": "2024-08-20T03:59:14.422893Z"
    }
   },
   "cell_type": "code",
   "source": "",
   "id": "bdda45cc099a1af9",
   "outputs": [
    {
     "data": {
      "text/plain": [
       "['/Users/a1000074/Library/Application Support/JetBrains/IntelliJIdea2024.1/plugins/python/helpers-pro/jupyter_debug',\n",
       " '/Users/a1000074/Library/Application Support/JetBrains/IntelliJIdea2024.1/plugins/python/helpers/pydev',\n",
       " '/Users/a1000074/dev/IdeaProjects/myFirstPyCrawlNew/crawl',\n",
       " '/Users/a1000074/dev/IdeaProjects/myFirstPyCrawlNew',\n",
       " '/opt/miniconda3/envs/myFirstPyCrawlNew/lib/python39.zip',\n",
       " '/opt/miniconda3/envs/myFirstPyCrawlNew/lib/python3.9',\n",
       " '/opt/miniconda3/envs/myFirstPyCrawlNew/lib/python3.9/lib-dynload',\n",
       " '',\n",
       " '/opt/miniconda3/envs/myFirstPyCrawlNew/lib/python3.9/site-packages',\n",
       " '/opt/miniconda3/envs/myFirstPyCrawlNew/lib/python3.9/site-packages/setuptools/_vendor']"
      ]
     },
     "execution_count": 77,
     "metadata": {},
     "output_type": "execute_result"
    }
   ],
   "execution_count": 77
  },
  {
   "metadata": {
    "ExecuteTime": {
     "end_time": "2024-08-20T05:01:20.366805Z",
     "start_time": "2024-08-20T05:01:20.255258Z"
    }
   },
   "cell_type": "code",
   "source": [
    "%load_ext autoreload\n",
    "%autoreload 2\n",
    "\n",
    "from utils.data_type_converter import DataConverter\n",
    "\n",
    "a = DataConverter()\n",
    "a.convert_number('-20.1%')\n",
    "# \n",
    "# convert_number('-20.1%')\n",
    "# a = utils.data_type_converter.DataConverter()\n",
    "# a.convert_number('-20.2')"
   ],
   "id": "d71ce57305902df1",
   "outputs": [
    {
     "data": {
      "text/plain": [
       "-20.1"
      ]
     },
     "execution_count": 2,
     "metadata": {},
     "output_type": "execute_result"
    }
   ],
   "execution_count": 2
  },
  {
   "metadata": {},
   "cell_type": "code",
   "outputs": [],
   "execution_count": null,
   "source": "",
   "id": "a6c82c5d8dc26c12"
  }
 ],
 "metadata": {
  "kernelspec": {
   "display_name": "Python 3",
   "language": "python",
   "name": "python3"
  },
  "language_info": {
   "codemirror_mode": {
    "name": "ipython",
    "version": 2
   },
   "file_extension": ".py",
   "mimetype": "text/x-python",
   "name": "python",
   "nbconvert_exporter": "python",
   "pygments_lexer": "ipython2",
   "version": "2.7.6"
  }
 },
 "nbformat": 4,
 "nbformat_minor": 5
}
