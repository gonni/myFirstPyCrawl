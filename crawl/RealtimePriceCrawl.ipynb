{
 "cells": [
  {
   "cell_type": "code",
   "id": "initial_id",
   "metadata": {
    "collapsed": true,
    "ExecuteTime": {
     "end_time": "2024-08-18T10:57:26.540376Z",
     "start_time": "2024-08-18T10:57:26.101822Z"
    }
   },
   "source": [
    "from typing import Optional, List\n",
    "from bs4 import BeautifulSoup, Tag\n",
    "import requests\n",
    "\n",
    "def get_realtime_price(url: str = 'https://finance.naver.com/sise/sise_index.naver?code=KOSDAQ') :\n",
    "    req = requests.get(url, headers={'User-agent': 'Mozilla/5.0'})\n",
    "    dom = BeautifulSoup(req.text, \"html.parser\")\n",
    "    cur_price = dom.select_one('em#now_value').text\n",
    "    cur_volume = dom.select_one('td#quant').text\n",
    "    cur_volume_price = dom.select_one('td#amount').text\n",
    "    cur_volume_etcs = dom.select_one('dl.lst_kos_info').text\n",
    "    print(cur_price + \"|\" + cur_volume + \"|\" + cur_volume_price + \"|\" + cur_volume_etcs)\n",
    "\n",
    "\n",
    "\n",
    "get_realtime_price()\n",
    "    "
   ],
   "outputs": [
    {
     "name": "stdout",
     "output_type": "stream",
     "text": [
      "786.33|1,080,402|8,000,416|\n",
      "투자자별 매매동향\n",
      "개인-1,344억\n",
      "외국인+1,010억\n",
      "기관+659억\n",
      "프로그램 매매동향\n",
      "차익-176억\n",
      "비차익+1,161억\n",
      "전체+984억\n",
      "\n"
     ]
    }
   ],
   "execution_count": 17
  },
  {
   "metadata": {},
   "cell_type": "code",
   "outputs": [],
   "execution_count": null,
   "source": "",
   "id": "4f43c4ff491efb1"
  }
 ],
 "metadata": {
  "kernelspec": {
   "display_name": "Python 3",
   "language": "python",
   "name": "python3"
  },
  "language_info": {
   "codemirror_mode": {
    "name": "ipython",
    "version": 2
   },
   "file_extension": ".py",
   "mimetype": "text/x-python",
   "name": "python",
   "nbconvert_exporter": "python",
   "pygments_lexer": "ipython2",
   "version": "2.7.6"
  }
 },
 "nbformat": 4,
 "nbformat_minor": 5
}
