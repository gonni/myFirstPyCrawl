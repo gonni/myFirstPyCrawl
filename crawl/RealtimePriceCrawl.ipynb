{
 "cells": [
  {
   "cell_type": "code",
   "id": "initial_id",
   "metadata": {
    "collapsed": true,
    "ExecuteTime": {
     "end_time": "2024-08-19T12:05:18.550724Z",
     "start_time": "2024-08-19T12:05:18.465486Z"
    }
   },
   "source": [
    "from typing import Optional, List\n",
    "from bs4 import BeautifulSoup, Tag\n",
    "import requests\n",
    "\n",
    "def get_realtime_price(url: str = 'https://finance.naver.com/sise/sise_index.naver?code=KOSDAQ') :\n",
    "    req = requests.get(url, headers={'User-agent': 'Mozilla/5.0'})\n",
    "    dom = BeautifulSoup(req.text, \"html.parser\")\n",
    "    cur_price = dom.select_one('em#now_value').text\n",
    "    cur_volume = dom.select_one('td#quant').text\n",
    "    cur_volume_price = dom.select_one('td#amount').text\n",
    "    cur_volume_personal = dom.select_one('dl.lst_kos_info').select_one(':nth-child(2)').select_one('span').text\n",
    "    cur_volume_forg = dom.select_one('dl.lst_kos_info').select_one(':nth-child(3)').select_one('span').text\n",
    "    cur_volume_instfund = dom.select_one('dl.lst_kos_info').select_one(':nth-child(4)').select_one('span').text\n",
    "\n",
    "    cur_volume_prog_pos = dom.select_one('dl.lst_kos_info').select_one(':nth-child(6)').select_one('span').text\n",
    "    cur_volume_prog_neg = dom.select_one('dl.lst_kos_info').select_one(':nth-child(7)').select_one('span').text\n",
    "    \n",
    "    print(cur_volume_personal + '|' + cur_volume_forg + '|' + cur_volume_instfund + '|' \n",
    "          + cur_volume_prog_pos + '|' + cur_volume_prog_neg)\n",
    "    print(cur_price + \"|\" + cur_volume + \"|\" + cur_volume_price + \"|\" )\n",
    "    \n",
    "\n",
    "get_realtime_price()\n",
    "    "
   ],
   "outputs": [
    {
     "name": "stdout",
     "output_type": "stream",
     "text": [
      "+1,394억|-1,130억|-134억|-12억|-1,099억\n",
      "777.47|1,135,628|7,653,033|\n"
     ]
    }
   ],
   "execution_count": 19
  },
  {
   "metadata": {
    "ExecuteTime": {
     "end_time": "2024-08-19T14:18:52.906474Z",
     "start_time": "2024-08-19T14:18:52.861726Z"
    }
   },
   "cell_type": "code",
   "source": [
    "# 코스닥 종가\n",
    "from typing import Optional, List\n",
    "from bs4 import BeautifulSoup, Tag\n",
    "import requests\n",
    "from dataclasses import dataclass\n",
    "\n",
    "@dataclass\n",
    "class RealtimePriceCrawl:\n",
    "    date: str\n",
    "    closing_price: float\n",
    "    up_down_per: float\n",
    "    volume: int\n",
    "    volume_amt: int\n",
    "\n",
    "def get_kosdaq_daily_price() :\n",
    "    url = 'https://finance.naver.com/sise/sise_index_day.naver?code=KOSDAQ&page=1'\n",
    "    req = requests.get(url, headers={'User-agent': 'Mozilla/5.0'})\n",
    "    dom = BeautifulSoup(req.text, \"html.parser\")\n",
    "    \n",
    "    v_date = dom.select('tr > td.date')\n",
    "    \n",
    "    res: List[RealtimePriceCrawl] = []\n",
    "    for v in v_date:\n",
    "        print('---------------------------------------')\n",
    "        print(v.parent.select_one(':nth-child(1)').text)\n",
    "        print(v.parent.select_one(':nth-child(2)').text)\n",
    "        print(v.parent.select_one(':nth-child(4)').text.strip())\n",
    "        print(v.parent.select_one(':nth-child(5)').text)\n",
    "        print(v.parent.select_one(':nth-child(6)').text)\n",
    "        # res.append(RealtimePriceCrawl(\n",
    "        #     date=v.parent.select_one(':nth-child(1)').text, \n",
    "        #     closing_price=v.parent.select_one(':nth-child(2)').text))\n",
    "    \n",
    "get_kosdaq_daily_price()"
   ],
   "id": "4f43c4ff491efb1",
   "outputs": [
    {
     "name": "stdout",
     "output_type": "stream",
     "text": [
      "---------------------------------------\n",
      "2024.08.19\n",
      "777.47\n",
      "-1.13%\n",
      "1,135,628\n",
      "7,653,033\n",
      "---------------------------------------\n",
      "2024.08.16\n",
      "786.33\n",
      "+1.22%\n",
      "1,080,402\n",
      "8,000,416\n",
      "---------------------------------------\n",
      "2024.08.14\n",
      "776.83\n",
      "+1.56%\n",
      "1,111,020\n",
      "7,691,492\n",
      "---------------------------------------\n",
      "2024.08.13\n",
      "764.86\n",
      "-1.02%\n",
      "1,170,514\n",
      "7,661,966\n",
      "---------------------------------------\n",
      "2024.08.12\n",
      "772.72\n",
      "+1.08%\n",
      "885,108\n",
      "6,850,312\n",
      "---------------------------------------\n",
      "2024.08.09\n",
      "764.43\n",
      "+2.57%\n",
      "843,852\n",
      "7,392,825\n"
     ]
    }
   ],
   "execution_count": 58
  },
  {
   "metadata": {},
   "cell_type": "code",
   "outputs": [],
   "execution_count": null,
   "source": "",
   "id": "2715bfedae6a05bc"
  }
 ],
 "metadata": {
  "kernelspec": {
   "display_name": "Python 3",
   "language": "python",
   "name": "python3"
  },
  "language_info": {
   "codemirror_mode": {
    "name": "ipython",
    "version": 2
   },
   "file_extension": ".py",
   "mimetype": "text/x-python",
   "name": "python",
   "nbconvert_exporter": "python",
   "pygments_lexer": "ipython2",
   "version": "2.7.6"
  }
 },
 "nbformat": 4,
 "nbformat_minor": 5
}
