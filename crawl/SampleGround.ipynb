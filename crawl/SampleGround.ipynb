{
 "cells": [
  {
   "cell_type": "code",
   "execution_count": 84,
   "id": "initial_id",
   "metadata": {
    "collapsed": true,
    "ExecuteTime": {
     "end_time": "2024-07-26T08:25:02.086875Z",
     "start_time": "2024-07-26T08:25:01.846105Z"
    }
   },
   "outputs": [
    {
     "name": "stdout",
     "output_type": "stream",
     "text": [
      "date: 2024.07.25, end_value: 9,935\n",
      "date: 2024.07.24, end_value: 10,360\n",
      "date: 2024.07.23, end_value: 10,275\n",
      "date: 2024.07.22, end_value: 10,210\n",
      "date: 2024.07.19, end_value: 10,740\n",
      "date: 2024.07.18, end_value: 10,570\n",
      "date: 2024.07.17, end_value: 10,680\n",
      "date: 2024.07.16, end_value: 11,035\n",
      "date: 2024.07.15, end_value: 11,420\n",
      "date: 2024.07.12, end_value: 11,370\n",
      "date: 2024.07.11, end_value: 11,435\n",
      "date: 2024.07.10, end_value: 11,645\n",
      "date: 2024.07.09, end_value: 11,745\n",
      "date: 2024.07.08, end_value: 11,730\n",
      "date: 2024.07.05, end_value: 11,450\n",
      "date: 2024.07.04, end_value: 11,055\n",
      "date: 2024.07.03, end_value: 10,870\n",
      "date: 2024.07.02, end_value: 10,360\n",
      "date: 2024.07.01, end_value: 10,905\n",
      "date: 2024.06.28, end_value: 10,540\n"
     ]
    }
   ],
   "source": [
    "from typing import Optional\n",
    "from bs4 import BeautifulSoup, Tag\n",
    "import requests\n",
    "\n",
    "# code = '005930'\n",
    "# url = f'https://finance.naver.com/item/sise_day.naver?code={code}'\n",
    "url = 'https://finance.naver.com/item/frgn.naver?code=233740'\n",
    "req = requests.get(url, headers={'User-agent': 'Mozilla/5.0'})\n",
    "\n",
    "#print(req.text)\n",
    "\n",
    "dom = BeautifulSoup(req.text, \"html.parser\")\n",
    "wrapped = dom.select('table.type2 > tr')\n",
    "\n",
    "# mo = dom.find_all('tr', {\"onMouseOver\": \"mouseOver(this)\", \"onMouseOut\": \"mouseOut(this)\"})\n",
    "\n",
    "sel = dom.select('table.type2 > tr > td.tc')\n",
    "###\n",
    "\n",
    "class DataCompFor:\n",
    "    def __init__(self, date, end_value, delta, updown_per, volume, comp_buy, for_buy, for_cont, for_per):\n",
    "        self._date = date\n",
    "        self._end_value = end_value\n",
    "        self._delta = delta\n",
    "        self._updown_per = updown_per\n",
    "        self._volume = volume\n",
    "        self._comp_buy = comp_buy\n",
    "        self._for_buy = for_buy\n",
    "        self.for_cont = for_cont\n",
    "        self.for_per = for_per\n",
    "    \n",
    "    def __str__(self):\n",
    "        return \"date: \" + self._date + \", end_value: \" + self._end_value\n",
    "            \n",
    "\n",
    "# def convert(tr: Optional[Tag]): \n",
    "#     return DataCompFor(\n",
    "#         tr.select_one('td:nth-child(1)').text,\n",
    "#         tr.select_one('td:nth-child(2)').text,\n",
    "#         tr.select_one('td:nth-child(3)').text.strip(),\n",
    "#         tr.select_one('td:nth-child(4)').text.strip(),\n",
    "#         tr.select_one('td:nth-child(5)').text,\n",
    "#         tr.select_one('td:nth-child(6)').text,\n",
    "#         tr.select_one('td:nth-child(7)').text,\n",
    "#         tr.select_one('td:nth-child(8)').text,\n",
    "#         tr.select_one('td:nth-child(9)').text\n",
    "#     )\n",
    "# \n",
    "# res = map(convert, sel)\n",
    "# for re in res:\n",
    "#     print(re)\n",
    "\n",
    "sel_c = []\n",
    "#######\n",
    "for trd in sel:\n",
    "    tr = trd.parent\n",
    "    # print('date -> ' + tr.select_one('td:nth-child(1)').text)\n",
    "    # print('end_value -> ' + tr.select_one('td:nth-child(2)').text)\n",
    "    # print('delta -> ' + tr.select_one('td:nth-child(3)').text.strip())\n",
    "    # print('updown_per -> ' + tr.select_one('td:nth-child(4)').text.strip())\n",
    "    # print('volume -> ' + tr.select_one('td:nth-child(5)').text)\n",
    "    # print('comp_buy -> ' + tr.select_one('td:nth-child(6)').text)\n",
    "    # print('for_buy -> ' + tr.select_one('td:nth-child(7)').text)\n",
    "    # print('for_cont -> ' + tr.select_one('td:nth-child(8)').text)\n",
    "    # print('for_per -> ' + tr.select_one('td:nth-child(9)').text)\n",
    "    # print('-----------')\n",
    "    sel_c.append(DataCompFor(\n",
    "        tr.select_one('td:nth-child(1)').text,\n",
    "        tr.select_one('td:nth-child(2)').text,\n",
    "        tr.select_one('td:nth-child(3)').text.strip(),\n",
    "        tr.select_one('td:nth-child(4)').text.strip(),\n",
    "        tr.select_one('td:nth-child(5)').text,\n",
    "        tr.select_one('td:nth-child(6)').text,\n",
    "        tr.select_one('td:nth-child(7)').text,\n",
    "        tr.select_one('td:nth-child(8)').text,\n",
    "        tr.select_one('td:nth-child(9)').text\n",
    "    ))\n",
    "########    \n",
    "\n",
    "for e in sel_c:\n",
    "    print(e)\n",
    "\n",
    "# #content > div.section.inner_sub > table.type2 > tbody > tr:nth-child(4)\n",
    "# fw = wrapped[3:]\n",
    "# \n",
    "# print(len(fw))\n",
    "# \n",
    "# print('---------')\n",
    "# \n",
    "# for row in wrapped:\n",
    "#     print(row)\n",
    "#     print('------------------------------')\n"
   ]
  },
  {
   "cell_type": "code",
   "outputs": [
    {
     "name": "stdout",
     "output_type": "stream",
     "text": [
      "Sleep 5 sec\n",
      "wake up\n"
     ]
    }
   ],
   "source": [
    "import time\n",
    "\n",
    "print('Sleep 5 sec')\n",
    "time.sleep(5)\n",
    "print('wake up')"
   ],
   "metadata": {
    "collapsed": false,
    "ExecuteTime": {
     "end_time": "2024-07-26T05:44:54.375822Z",
     "start_time": "2024-07-26T05:44:49.365492Z"
    }
   },
   "id": "b7abb991a263a9b4",
   "execution_count": 75
  },
  {
   "cell_type": "code",
   "outputs": [
    {
     "name": "stdout",
     "output_type": "stream",
     "text": [
      "-425.0\n",
      "12123123.0\n"
     ]
    }
   ],
   "source": [
    "def convert_updown_number(text):\n",
    "    tokens = text.split()\n",
    "    if tokens[0] == '하락':\n",
    "        return float(tokens[1]) * -1\n",
    "    else :\n",
    "        return float(tokens[1])\n",
    "\n",
    "tx = '''하락\n",
    "\t\t\t\t425'''\n",
    "print(convert_updown_number(tx))\n",
    "\n",
    "def convert_number(text):\n",
    "    negative = 1\n",
    "    if text[0] == '+':\n",
    "        text = text[1:]\n",
    "        negative = 1\n",
    "    elif text[0] == '-':\n",
    "        text = text[1:]\n",
    "        negative = -1\n",
    "    text = text.replace(',', '')\n",
    "    return float(text) * negative\n",
    "    \n",
    "print(convert_number('12,123,123'))    \n"
   ],
   "metadata": {
    "collapsed": false,
    "ExecuteTime": {
     "end_time": "2024-07-26T05:09:28.939591Z",
     "start_time": "2024-07-26T05:09:28.935156Z"
    }
   },
   "id": "4a5eb3fb274154af",
   "execution_count": 73
  },
  {
   "cell_type": "code",
   "outputs": [
    {
     "name": "stdout",
     "output_type": "stream",
     "text": [
      "11,893,377 is a number!!\n",
      "None\n"
     ]
    }
   ],
   "source": [
    "import re\n",
    "\n",
    "def check_number(text):\n",
    "    regex = re.compile(r'((-)?\\d{1,3}(,\\d{3})*(\\.\\d+)?)')\n",
    "\n",
    "    search = regex.search(text)\n",
    "    if search:\n",
    "        print('%s is a number!!' % search.group(1))\n",
    "    else:\n",
    "        print('%s is not a number!!' % text)\n",
    "\n",
    "\n",
    "print(check_number('11,893,377'))"
   ],
   "metadata": {
    "collapsed": false,
    "ExecuteTime": {
     "end_time": "2024-07-26T04:10:42.433192Z",
     "start_time": "2024-07-26T04:10:42.428438Z"
    }
   },
   "id": "693aed87133d4668",
   "execution_count": 62
  },
  {
   "cell_type": "code",
   "outputs": [
    {
     "name": "stdout",
     "output_type": "stream",
     "text": [
      "uuid-test-1234            jeff 27\n",
      "uuid-test-1235         tompson 37\n"
     ]
    }
   ],
   "source": [
    "## mysql ##\n",
    "import pymysql\n",
    "conn = pymysql.connect(host='localhost', user='root', password='root', db='zio', charset='utf8mb4')\n",
    "cur = conn.cursor()\n",
    "\n",
    "cur.execute(\"select * from USER_TABLE\")\n",
    "\n",
    "while(True):\n",
    "    row = cur.fetchone()\n",
    "    if row == None:\n",
    "        break\n",
    "    data1 = row[0]\n",
    "    data2 = row[1]\n",
    "    data3 = row[2]\n",
    "    print(\"%5s %15s %d\"%(data1, data2, data3))"
   ],
   "metadata": {
    "collapsed": false,
    "ExecuteTime": {
     "end_time": "2024-07-26T01:51:17.687293Z",
     "start_time": "2024-07-26T01:51:17.672185Z"
    }
   },
   "id": "9f82b9c735059a13",
   "execution_count": 2
  },
  {
   "cell_type": "code",
   "outputs": [],
   "source": [],
   "metadata": {
    "collapsed": false
   },
   "id": "fa1076c30708a76d"
  }
 ],
 "metadata": {
  "kernelspec": {
   "display_name": "Python 3",
   "language": "python",
   "name": "python3"
  },
  "language_info": {
   "codemirror_mode": {
    "name": "ipython",
    "version": 2
   },
   "file_extension": ".py",
   "mimetype": "text/x-python",
   "name": "python",
   "nbconvert_exporter": "python",
   "pygments_lexer": "ipython2",
   "version": "2.7.6"
  }
 },
 "nbformat": 4,
 "nbformat_minor": 5
}
