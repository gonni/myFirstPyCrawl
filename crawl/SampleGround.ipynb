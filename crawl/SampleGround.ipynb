{
 "cells": [
  {
   "metadata": {
    "ExecuteTime": {
     "end_time": "2024-08-18T10:02:08.203101Z",
     "start_time": "2024-08-18T10:02:08.197191Z"
    }
   },
   "cell_type": "code",
   "source": [
    "from datetime import date\n",
    "\n",
    "def convert_number(text) -> float:\n",
    "    negative = 1\n",
    "    if text[0] == '+':\n",
    "        text = text[1:]\n",
    "        negative = 1\n",
    "    elif text[0] == '-':\n",
    "        text = text[1:]\n",
    "        negative = -1\n",
    "\n",
    "    if text.endswith('%'):\n",
    "        text = text[:-1]\n",
    "\n",
    "    text = text.replace(',', '')\n",
    "    return float(text) * negative\n",
    "\n",
    "print(convert_number('12,123,123'))\n",
    "\n",
    "def convert_updown_number(text) -> float:\n",
    "    if text.find('보합') == 0:\n",
    "        return 0.0\n",
    "    \n",
    "    tokens = text.split()\n",
    "    conv = convert_number(tokens[1])\n",
    "    \n",
    "    if tokens[0] == '하락':\n",
    "        return conv * -1\n",
    "    else :\n",
    "        return conv\n",
    "\n",
    "tx = '''하락\n",
    "\t\t\t\t1,425'''\n",
    "print(convert_updown_number(tx))\n",
    "\n"
   ],
   "id": "a085c726a8cd4de6",
   "outputs": [
    {
     "name": "stdout",
     "output_type": "stream",
     "text": [
      "12123123.0\n",
      "-1425.0\n"
     ]
    }
   ],
   "execution_count": 4
  },
  {
   "cell_type": "code",
   "id": "initial_id",
   "metadata": {
    "collapsed": true,
    "ExecuteTime": {
     "end_time": "2024-07-27T06:57:20.440272Z",
     "start_time": "2024-07-27T06:57:20.438351Z"
    }
   },
   "source": [
    "\n",
    "\n",
    "    "
   ],
   "outputs": [],
   "execution_count": 16
  },
  {
   "metadata": {
    "ExecuteTime": {
     "end_time": "2024-08-18T10:02:17.196258Z",
     "start_time": "2024-08-18T10:02:16.845467Z"
    }
   },
   "cell_type": "code",
   "source": [
    "from typing import Optional, List\n",
    "from bs4 import BeautifulSoup, Tag\n",
    "import requests\n",
    "\n",
    "class DataCompFor:\n",
    "    def __init__(self, date, end_value, delta, updown_per, volume, comp_buy, for_buy, for_cont, for_per):\n",
    "        self.date = date\n",
    "        self.end_value = end_value\n",
    "        self.delta = delta\n",
    "        self.updown_per = updown_per\n",
    "        self.volume = volume\n",
    "        self.comp_buy = comp_buy\n",
    "        self.for_buy = for_buy\n",
    "        self.for_cont = for_cont\n",
    "        self.for_per = for_per\n",
    "\n",
    "    def __str__(self):\n",
    "        return \"date: \" + self.date + \", end_value: \" + self.end_value\n",
    "\n",
    "def get_stock_data_list(url) -> List[DataCompFor]:\n",
    "    req = requests.get(url, headers={'User-agent': 'Mozilla/5.0'})\n",
    "    dom = BeautifulSoup(req.text, \"html.parser\")\n",
    "    sel = dom.select('table.type2 > tr > td.tc')\n",
    "\n",
    "    sel_c: List[DataCompFor] = []\n",
    "    for trd in sel:\n",
    "        tr = trd.parent\n",
    "        \n",
    "        try :\n",
    "            sel_c.append(DataCompFor(\n",
    "                tr.select_one('td:nth-child(1)').text,\n",
    "                convert_number(tr.select_one('td:nth-child(2)').text),\n",
    "                convert_updown_number(tr.select_one('td:nth-child(3)').text.strip()),\n",
    "                convert_number(tr.select_one('td:nth-child(4)').text.strip()),\n",
    "                convert_number(tr.select_one('td:nth-child(5)').text),\n",
    "                convert_number(tr.select_one('td:nth-child(6)').text),\n",
    "                convert_number(tr.select_one('td:nth-child(7)').text),\n",
    "                convert_number(tr.select_one('td:nth-child(8)').text),\n",
    "                convert_number(tr.select_one('td:nth-child(9)').text)\n",
    "            ))\n",
    "        except e:\n",
    "            print('-- parsing error -->' + tr.select_one('td:nth-child(3)').text.strip())\n",
    "            # print(e)\n",
    "            \n",
    "    return sel_c\n",
    "\n",
    "data = get_stock_data_list(url = 'https://finance.naver.com/item/frgn.naver?code=233740&page=3')\n",
    "\n",
    "for e in data:\n",
    "    print(e.__dict__)\n",
    "    "
   ],
   "id": "bac756f808e2f656",
   "outputs": [
    {
     "name": "stdout",
     "output_type": "stream",
     "text": [
      "{'date': '2024.06.20', 'end_value': 10855.0, 'delta': -125.0, 'updown_per': -1.14, 'volume': 14889410.0, 'comp_buy': -1097939.0, 'for_buy': -228344.0, 'for_cont': 1811444.0, 'for_per': 1.67}\n",
      "{'date': '2024.06.19', 'end_value': 10980.0, 'delta': 35.0, 'updown_per': 0.32, 'volume': 15754828.0, 'comp_buy': -491188.0, 'for_buy': 203355.0, 'for_cont': 2039788.0, 'for_per': 1.94}\n",
      "{'date': '2024.06.18', 'end_value': 10945.0, 'delta': 0.0, 'updown_per': 0.0, 'volume': 15857105.0, 'comp_buy': 167830.0, 'for_buy': 8639.0, 'for_cont': 1936433.0, 'for_per': 1.9}\n",
      "{'date': '2024.06.17', 'end_value': 10945.0, 'delta': -25.0, 'updown_per': -0.23, 'volume': 14217299.0, 'comp_buy': 235073.0, 'for_buy': -333963.0, 'for_cont': 1927794.0, 'for_per': 1.84}\n",
      "{'date': '2024.06.14', 'end_value': 10970.0, 'delta': -330.0, 'updown_per': -2.92, 'volume': 14509296.0, 'comp_buy': -1291706.0, 'for_buy': -284855.0, 'for_cont': 2261757.0, 'for_per': 2.1}\n",
      "{'date': '2024.06.13', 'end_value': 11300.0, 'delta': -50.0, 'updown_per': -0.44, 'volume': 13789482.0, 'comp_buy': 1154959.0, 'for_buy': -789790.0, 'for_cont': 2546612.0, 'for_per': 2.28}\n",
      "{'date': '2024.06.12', 'end_value': 11350.0, 'delta': 0.0, 'updown_per': 0.0, 'volume': 15327705.0, 'comp_buy': -1226570.0, 'for_buy': 1257079.0, 'for_cont': 3336402.0, 'for_per': 3.0}\n",
      "{'date': '2024.06.11', 'end_value': 11350.0, 'delta': 260.0, 'updown_per': 2.34, 'volume': 17521571.0, 'comp_buy': 3315027.0, 'for_buy': 624916.0, 'for_cont': 2179323.0, 'for_per': 1.87}\n",
      "{'date': '2024.06.10', 'end_value': 11090.0, 'delta': -250.0, 'updown_per': -2.2, 'volume': 13753586.0, 'comp_buy': -842154.0, 'for_buy': -702606.0, 'for_cont': 1654407.0, 'for_per': 1.35}\n",
      "{'date': '2024.06.07', 'end_value': 11340.0, 'delta': 535.0, 'updown_per': 4.95, 'volume': 24330652.0, 'comp_buy': 7956942.0, 'for_buy': 998936.0, 'for_cont': 2457013.0, 'for_per': 1.9}\n",
      "{'date': '2024.06.05', 'end_value': 10805.0, 'delta': 290.0, 'updown_per': 2.76, 'volume': 20676072.0, 'comp_buy': 6000772.0, 'for_buy': 247106.0, 'for_cont': 1558077.0, 'for_per': 1.23}\n",
      "{'date': '2024.06.04', 'end_value': 10515.0, 'delta': 210.0, 'updown_per': 2.04, 'volume': 21489625.0, 'comp_buy': 6563714.0, 'for_buy': 840347.0, 'for_cont': 1410971.0, 'for_per': 1.14}\n",
      "{'date': '2024.06.03', 'end_value': 10305.0, 'delta': 125.0, 'updown_per': 1.23, 'volume': 17453218.0, 'comp_buy': 695425.0, 'for_buy': -278796.0, 'for_cont': 470624.0, 'for_per': 0.39}\n",
      "{'date': '2024.05.31', 'end_value': 10180.0, 'delta': 200.0, 'updown_per': 2.0, 'volume': 23960565.0, 'comp_buy': -2969185.0, 'for_buy': 226826.0, 'for_cont': 649420.0, 'for_per': 0.55}\n",
      "{'date': '2024.05.30', 'end_value': 9980.0, 'delta': -145.0, 'updown_per': -1.43, 'volume': 17973545.0, 'comp_buy': -980238.0, 'for_buy': -94695.0, 'for_cont': 422594.0, 'for_per': 0.34}\n",
      "{'date': '2024.05.29', 'end_value': 10125.0, 'delta': -370.0, 'updown_per': -3.53, 'volume': 18219918.0, 'comp_buy': -3469658.0, 'for_buy': -138604.0, 'for_cont': 517289.0, 'for_per': 0.43}\n",
      "{'date': '2024.05.28', 'end_value': 10495.0, 'delta': -30.0, 'updown_per': -0.29, 'volume': 15739932.0, 'comp_buy': 1430450.0, 'for_buy': -16534.0, 'for_cont': 555893.0, 'for_per': 0.47}\n",
      "{'date': '2024.05.27', 'end_value': 10525.0, 'delta': 330.0, 'updown_per': 3.24, 'volume': 20613224.0, 'comp_buy': 449751.0, 'for_buy': 269720.0, 'for_cont': 472427.0, 'for_per': 0.41}\n",
      "{'date': '2024.05.24', 'end_value': 10195.0, 'delta': -195.0, 'updown_per': -1.88, 'volume': 17197420.0, 'comp_buy': -3125331.0, 'for_buy': -157708.0, 'for_cont': 102707.0, 'for_per': 0.09}\n",
      "{'date': '2024.05.23', 'end_value': 10390.0, 'delta': -70.0, 'updown_per': -0.67, 'volume': 17614292.0, 'comp_buy': -2218967.0, 'for_buy': -297004.0, 'for_cont': 160415.0, 'for_per': 0.15}\n"
     ]
    }
   ],
   "execution_count": 5
  },
  {
   "metadata": {
    "ExecuteTime": {
     "end_time": "2024-08-18T10:03:16.531140Z",
     "start_time": "2024-08-18T10:03:15.859674Z"
    }
   },
   "cell_type": "code",
   "source": [
    "import pymysql\n",
    "def crawl2db(stockCode, page):\n",
    "    targetUrl = 'https://finance.naver.com/item/frgn.naver?code=%s&page=%s' % (stockCode, page)\n",
    "    print(targetUrl)\n",
    "    data = get_stock_data_list(url = targetUrl)\n",
    "\n",
    "    conn = pymysql.connect(host='horusa', user='root', password='root', db='zio', charset='utf8mb4')\n",
    "    cur = conn.cursor()\n",
    "\n",
    "    sql = \"INSERT INTO CRWAL_INVESTOR_STOCK_TYPE(TYPE_CODE, DATEON, END_VALUE, DELTA, UPDOWN_PER, VOLUME, COMP_BUY, FOR_BUY, FOR_CONT, FOR_PER) values ('233740', %s, %s, %s, %s, %s, %s, %s, %s, %s)\"\n",
    "\n",
    "    for row in data:\n",
    "        try:\n",
    "            print(row.__dict__)\n",
    "            cur.execute(sql, (row.date, row.end_value, row.delta, row.updown_per, row.volume,  row.comp_buy, row.for_buy, row.for_cont, row.for_per))\n",
    "        except:\n",
    "            print('error > duplicated key - {}'.format(row.date))\n",
    "\n",
    "    conn.commit()\n",
    "    conn.close()\n",
    "    \n",
    "crawl2db('233740', 1)\n",
    "    "
   ],
   "id": "527dea8b871a05f7",
   "outputs": [
    {
     "name": "stdout",
     "output_type": "stream",
     "text": [
      "https://finance.naver.com/item/frgn.naver?code=233740&page=1\n",
      "{'date': '2024.08.16', 'end_value': 9655.0, 'delta': 370.0, 'updown_per': 3.98, 'volume': 16413173.0, 'comp_buy': 5421589.0, 'for_buy': 35080.0, 'for_cont': 773321.0, 'for_per': 0.51}\n",
      "{'date': '2024.08.14', 'end_value': 9285.0, 'delta': 230.0, 'updown_per': 2.54, 'volume': 16664766.0, 'comp_buy': 3288490.0, 'for_buy': 2949.0, 'for_cont': 738241.0, 'for_per': 0.48}\n",
      "{'date': '2024.08.13', 'end_value': 9055.0, 'delta': -125.0, 'updown_per': -1.36, 'volume': 23539151.0, 'comp_buy': -1675166.0, 'for_buy': 188.0, 'for_cont': 635292.0, 'for_per': 0.4}\n",
      "{'date': '2024.08.12', 'end_value': 9180.0, 'delta': 105.0, 'updown_per': 1.16, 'volume': 15511602.0, 'comp_buy': 1177707.0, 'for_buy': -38305.0, 'for_cont': 535104.0, 'for_per': 0.34}\n",
      "{'date': '2024.08.09', 'end_value': 9075.0, 'delta': 490.0, 'updown_per': 5.71, 'volume': 30441582.0, 'comp_buy': 4745422.0, 'for_buy': 41395.0, 'for_cont': 473409.0, 'for_per': 0.29}\n",
      "{'date': '2024.08.08', 'end_value': 8585.0, 'delta': -155.0, 'updown_per': -1.77, 'volume': 31110833.0, 'comp_buy': -1243082.0, 'for_buy': -91019.0, 'for_cont': 432014.0, 'for_per': 0.28}\n",
      "{'date': '2024.08.07', 'end_value': 8740.0, 'delta': 330.0, 'updown_per': 3.92, 'volume': 35205810.0, 'comp_buy': 2736649.0, 'for_buy': 279116.0, 'for_cont': 523033.0, 'for_per': 0.38}\n",
      "{'date': '2024.08.06', 'end_value': 8410.0, 'delta': 710.0, 'updown_per': 9.22, 'volume': 54358163.0, 'comp_buy': 117402.0, 'for_buy': 130771.0, 'for_cont': 143917.0, 'for_per': 0.11}\n",
      "{'date': '2024.08.05', 'end_value': 7700.0, 'delta': -1830.0, 'updown_per': -19.2, 'volume': 47202258.0, 'comp_buy': -19861151.0, 'for_buy': -159148.0, 'for_cont': 0.0, 'for_per': 0.0}\n",
      "{'date': '2024.08.02', 'end_value': 9530.0, 'delta': -900.0, 'updown_per': -8.63, 'volume': 29153902.0, 'comp_buy': -10497856.0, 'for_buy': -1214941.0, 'for_cont': 0.0, 'for_per': 0.0}\n",
      "{'date': '2024.08.01', 'end_value': 10430.0, 'delta': 290.0, 'updown_per': 2.86, 'volume': 21164754.0, 'comp_buy': 4119580.0, 'for_buy': 509309.0, 'for_cont': 1187235.0, 'for_per': 0.9}\n",
      "{'date': '2024.07.31', 'end_value': 10140.0, 'delta': -50.0, 'updown_per': -0.49, 'volume': 23781762.0, 'comp_buy': -3107082.0, 'for_buy': 332907.0, 'for_cont': 577926.0, 'for_per': 0.45}\n",
      "{'date': '2024.07.30', 'end_value': 10190.0, 'delta': 20.0, 'updown_per': 0.2, 'volume': 17569907.0, 'comp_buy': 34484.0, 'for_buy': -93759.0, 'for_cont': 145019.0, 'for_per': 0.12}\n",
      "{'date': '2024.07.29', 'end_value': 10170.0, 'delta': 260.0, 'updown_per': 2.62, 'volume': 19044651.0, 'comp_buy': 1188004.0, 'for_buy': -9535.0, 'for_cont': 138778.0, 'for_per': 0.12}\n",
      "{'date': '2024.07.26', 'end_value': 9910.0, 'delta': -25.0, 'updown_per': -0.25, 'volume': 18867014.0, 'comp_buy': -3069604.0, 'for_buy': -94335.0, 'for_cont': 48313.0, 'for_per': 0.04}\n",
      "error > duplicated key - 2024.07.26\n",
      "{'date': '2024.07.25', 'end_value': 9935.0, 'delta': -425.0, 'updown_per': -4.1, 'volume': 27670553.0, 'comp_buy': -8731453.0, 'for_buy': -560720.0, 'for_cont': 42648.0, 'for_per': 0.04}\n",
      "error > duplicated key - 2024.07.25\n",
      "{'date': '2024.07.24', 'end_value': 10360.0, 'delta': 85.0, 'updown_per': 0.83, 'volume': 18236493.0, 'comp_buy': 1033548.0, 'for_buy': 160263.0, 'for_cont': 603368.0, 'for_per': 0.55}\n",
      "error > duplicated key - 2024.07.24\n",
      "{'date': '2024.07.23', 'end_value': 10275.0, 'delta': 65.0, 'updown_per': 0.64, 'volume': 20878439.0, 'comp_buy': -990217.0, 'for_buy': 192766.0, 'for_cont': 343105.0, 'for_per': 0.32}\n",
      "error > duplicated key - 2024.07.23\n",
      "{'date': '2024.07.22', 'end_value': 10210.0, 'delta': -530.0, 'updown_per': -4.93, 'volume': 25376131.0, 'comp_buy': -10601039.0, 'for_buy': -671720.0, 'for_cont': 50339.0, 'for_per': 0.05}\n",
      "error > duplicated key - 2024.07.22\n",
      "{'date': '2024.07.19', 'end_value': 10740.0, 'delta': 170.0, 'updown_per': 1.61, 'volume': 15638844.0, 'comp_buy': -296311.0, 'for_buy': 46680.0, 'for_cont': 722059.0, 'for_per': 0.72}\n",
      "error > duplicated key - 2024.07.19\n"
     ]
    }
   ],
   "execution_count": 7
  },
  {
   "cell_type": "code",
   "source": [
    "import time\n",
    "\n",
    "for i in range(1, 2):\n",
    "    print(\"turn #{}\".format(i))\n",
    "    crawl2db('233740', i)\n",
    "    time.sleep(1)"
   ],
   "metadata": {
    "collapsed": false,
    "ExecuteTime": {
     "end_time": "2024-08-18T10:03:21.181068Z",
     "start_time": "2024-08-18T10:03:19.871066Z"
    }
   },
   "id": "b7abb991a263a9b4",
   "outputs": [
    {
     "name": "stdout",
     "output_type": "stream",
     "text": [
      "turn #1\n",
      "https://finance.naver.com/item/frgn.naver?code=233740&page=1\n",
      "{'date': '2024.08.16', 'end_value': 9655.0, 'delta': 370.0, 'updown_per': 3.98, 'volume': 16413173.0, 'comp_buy': 5421589.0, 'for_buy': 35080.0, 'for_cont': 773321.0, 'for_per': 0.51}\n",
      "error > duplicated key - 2024.08.16\n",
      "{'date': '2024.08.14', 'end_value': 9285.0, 'delta': 230.0, 'updown_per': 2.54, 'volume': 16664766.0, 'comp_buy': 3288490.0, 'for_buy': 2949.0, 'for_cont': 738241.0, 'for_per': 0.48}\n",
      "error > duplicated key - 2024.08.14\n",
      "{'date': '2024.08.13', 'end_value': 9055.0, 'delta': -125.0, 'updown_per': -1.36, 'volume': 23539151.0, 'comp_buy': -1675166.0, 'for_buy': 188.0, 'for_cont': 635292.0, 'for_per': 0.4}\n",
      "error > duplicated key - 2024.08.13\n",
      "{'date': '2024.08.12', 'end_value': 9180.0, 'delta': 105.0, 'updown_per': 1.16, 'volume': 15511602.0, 'comp_buy': 1177707.0, 'for_buy': -38305.0, 'for_cont': 535104.0, 'for_per': 0.34}\n",
      "error > duplicated key - 2024.08.12\n",
      "{'date': '2024.08.09', 'end_value': 9075.0, 'delta': 490.0, 'updown_per': 5.71, 'volume': 30441582.0, 'comp_buy': 4745422.0, 'for_buy': 41395.0, 'for_cont': 473409.0, 'for_per': 0.29}\n",
      "error > duplicated key - 2024.08.09\n",
      "{'date': '2024.08.08', 'end_value': 8585.0, 'delta': -155.0, 'updown_per': -1.77, 'volume': 31110833.0, 'comp_buy': -1243082.0, 'for_buy': -91019.0, 'for_cont': 432014.0, 'for_per': 0.28}\n",
      "error > duplicated key - 2024.08.08\n",
      "{'date': '2024.08.07', 'end_value': 8740.0, 'delta': 330.0, 'updown_per': 3.92, 'volume': 35205810.0, 'comp_buy': 2736649.0, 'for_buy': 279116.0, 'for_cont': 523033.0, 'for_per': 0.38}\n",
      "error > duplicated key - 2024.08.07\n",
      "{'date': '2024.08.06', 'end_value': 8410.0, 'delta': 710.0, 'updown_per': 9.22, 'volume': 54358163.0, 'comp_buy': 117402.0, 'for_buy': 130771.0, 'for_cont': 143917.0, 'for_per': 0.11}\n",
      "error > duplicated key - 2024.08.06\n",
      "{'date': '2024.08.05', 'end_value': 7700.0, 'delta': -1830.0, 'updown_per': -19.2, 'volume': 47202258.0, 'comp_buy': -19861151.0, 'for_buy': -159148.0, 'for_cont': 0.0, 'for_per': 0.0}\n",
      "error > duplicated key - 2024.08.05\n",
      "{'date': '2024.08.02', 'end_value': 9530.0, 'delta': -900.0, 'updown_per': -8.63, 'volume': 29153902.0, 'comp_buy': -10497856.0, 'for_buy': -1214941.0, 'for_cont': 0.0, 'for_per': 0.0}\n",
      "error > duplicated key - 2024.08.02\n",
      "{'date': '2024.08.01', 'end_value': 10430.0, 'delta': 290.0, 'updown_per': 2.86, 'volume': 21164754.0, 'comp_buy': 4119580.0, 'for_buy': 509309.0, 'for_cont': 1187235.0, 'for_per': 0.9}\n",
      "error > duplicated key - 2024.08.01\n",
      "{'date': '2024.07.31', 'end_value': 10140.0, 'delta': -50.0, 'updown_per': -0.49, 'volume': 23781762.0, 'comp_buy': -3107082.0, 'for_buy': 332907.0, 'for_cont': 577926.0, 'for_per': 0.45}\n",
      "error > duplicated key - 2024.07.31\n",
      "{'date': '2024.07.30', 'end_value': 10190.0, 'delta': 20.0, 'updown_per': 0.2, 'volume': 17569907.0, 'comp_buy': 34484.0, 'for_buy': -93759.0, 'for_cont': 145019.0, 'for_per': 0.12}\n",
      "error > duplicated key - 2024.07.30\n",
      "{'date': '2024.07.29', 'end_value': 10170.0, 'delta': 260.0, 'updown_per': 2.62, 'volume': 19044651.0, 'comp_buy': 1188004.0, 'for_buy': -9535.0, 'for_cont': 138778.0, 'for_per': 0.12}\n",
      "error > duplicated key - 2024.07.29\n",
      "{'date': '2024.07.26', 'end_value': 9910.0, 'delta': -25.0, 'updown_per': -0.25, 'volume': 18867014.0, 'comp_buy': -3069604.0, 'for_buy': -94335.0, 'for_cont': 48313.0, 'for_per': 0.04}\n",
      "error > duplicated key - 2024.07.26\n",
      "{'date': '2024.07.25', 'end_value': 9935.0, 'delta': -425.0, 'updown_per': -4.1, 'volume': 27670553.0, 'comp_buy': -8731453.0, 'for_buy': -560720.0, 'for_cont': 42648.0, 'for_per': 0.04}\n",
      "error > duplicated key - 2024.07.25\n",
      "{'date': '2024.07.24', 'end_value': 10360.0, 'delta': 85.0, 'updown_per': 0.83, 'volume': 18236493.0, 'comp_buy': 1033548.0, 'for_buy': 160263.0, 'for_cont': 603368.0, 'for_per': 0.55}\n",
      "error > duplicated key - 2024.07.24\n",
      "{'date': '2024.07.23', 'end_value': 10275.0, 'delta': 65.0, 'updown_per': 0.64, 'volume': 20878439.0, 'comp_buy': -990217.0, 'for_buy': 192766.0, 'for_cont': 343105.0, 'for_per': 0.32}\n",
      "error > duplicated key - 2024.07.23\n",
      "{'date': '2024.07.22', 'end_value': 10210.0, 'delta': -530.0, 'updown_per': -4.93, 'volume': 25376131.0, 'comp_buy': -10601039.0, 'for_buy': -671720.0, 'for_cont': 50339.0, 'for_per': 0.05}\n",
      "error > duplicated key - 2024.07.22\n",
      "{'date': '2024.07.19', 'end_value': 10740.0, 'delta': 170.0, 'updown_per': 1.61, 'volume': 15638844.0, 'comp_buy': -296311.0, 'for_buy': 46680.0, 'for_cont': 722059.0, 'for_per': 0.72}\n",
      "error > duplicated key - 2024.07.19\n"
     ]
    }
   ],
   "execution_count": 8
  },
  {
   "metadata": {},
   "cell_type": "markdown",
   "source": "",
   "id": "38b3585cb3504d22"
  },
  {
   "cell_type": "code",
   "source": [
    "import time\n",
    "\n",
    "print('Sleep 5 sec')\n",
    "time.sleep(5)\n",
    "print('wake up')"
   ],
   "metadata": {
    "collapsed": false,
    "ExecuteTime": {
     "end_time": "2024-07-27T06:57:59.119208Z",
     "start_time": "2024-07-27T06:57:54.109565Z"
    }
   },
   "id": "4a5eb3fb274154af",
   "outputs": [
    {
     "name": "stdout",
     "output_type": "stream",
     "text": [
      "Sleep 5 sec\n",
      "wake up\n"
     ]
    }
   ],
   "execution_count": 18
  },
  {
   "cell_type": "code",
   "outputs": [
    {
     "name": "stdout",
     "output_type": "stream",
     "text": [
      "11,893,377 is a number!!\n",
      "None\n"
     ]
    }
   ],
   "source": [
    "import re\n",
    "\n",
    "def check_number(text):\n",
    "    regex = re.compile(r'((-)?\\d{1,3}(,\\d{3})*(\\.\\d+)?)')\n",
    "\n",
    "    search = regex.search(text)\n",
    "    if search:\n",
    "        print('%s is a number!!' % search.group(1))\n",
    "    else:\n",
    "        print('%s is not a number!!' % text)\n",
    "\n",
    "\n",
    "print(check_number('11,893,377'))"
   ],
   "metadata": {
    "collapsed": false,
    "ExecuteTime": {
     "end_time": "2024-07-26T04:10:42.433192Z",
     "start_time": "2024-07-26T04:10:42.428438Z"
    }
   },
   "id": "693aed87133d4668",
   "execution_count": 62
  },
  {
   "cell_type": "code",
   "outputs": [
    {
     "name": "stdout",
     "output_type": "stream",
     "text": [
      "uuid-test-1234            jeff 27\n",
      "uuid-test-1235         tompson 37\n"
     ]
    }
   ],
   "source": [
    "## mysql ##\n",
    "import pymysql\n",
    "conn = pymysql.connect(host='localhost', user='root', password='root', db='zio', charset='utf8mb4')\n",
    "cur = conn.cursor()\n",
    "\n",
    "cur.execute(\"select * from USER_TABLE\")\n",
    "\n",
    "while(True):\n",
    "    row = cur.fetchone()\n",
    "    if row == None:\n",
    "        break\n",
    "    data1 = row[0]\n",
    "    data2 = row[1]\n",
    "    data3 = row[2]\n",
    "    print(\"%5s %15s %d\"%(data1, data2, data3))"
   ],
   "metadata": {
    "collapsed": false,
    "ExecuteTime": {
     "end_time": "2024-07-26T01:51:17.687293Z",
     "start_time": "2024-07-26T01:51:17.672185Z"
    }
   },
   "id": "9f82b9c735059a13",
   "execution_count": 2
  },
  {
   "cell_type": "code",
   "outputs": [],
   "source": [],
   "metadata": {
    "collapsed": false
   },
   "id": "fa1076c30708a76d",
   "execution_count": null
  }
 ],
 "metadata": {
  "kernelspec": {
   "display_name": "Python 3",
   "language": "python",
   "name": "python3"
  },
  "language_info": {
   "codemirror_mode": {
    "name": "ipython",
    "version": 2
   },
   "file_extension": ".py",
   "mimetype": "text/x-python",
   "name": "python",
   "nbconvert_exporter": "python",
   "pygments_lexer": "ipython2",
   "version": "2.7.6"
  }
 },
 "nbformat": 4,
 "nbformat_minor": 5
}
