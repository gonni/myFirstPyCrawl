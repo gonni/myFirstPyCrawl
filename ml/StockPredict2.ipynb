{
 "cells": [
  {
   "cell_type": "code",
   "id": "initial_id",
   "metadata": {
    "collapsed": true,
    "ExecuteTime": {
     "end_time": "2024-08-23T07:26:19.117481Z",
     "start_time": "2024-08-23T07:26:18.897191Z"
    }
   },
   "source": [
    "import pymysql.cursors\n",
    "import pandas as pd\n",
    "\n",
    "conn = pymysql.connect(host='localhost', \n",
    "                       user='root', \n",
    "                       password='root', \n",
    "                       db='zio', \n",
    "                       charset='utf8mb4', \n",
    "                       autocommit=True, \n",
    "                       cursorclass=pymysql.cursors.DictCursor)\n",
    "\n",
    "def get_investors_volume() :\n",
    "    cur = conn.cursor()\n",
    "    sql = \"select DATEON, PERSONAL, FOREIGNER, COMPANY, FINANCE, INSURANCE, TOOSIN, BANK, ETC_FIN, GOV_FUND, ETC_FUND from CRAWL_INVESTOR_DAILY_VOLUME where TYPE_CODE='02'\"\n",
    "    cur.execute(sql)\n",
    "    result = cur.fetchall()\n",
    "    cur.close()\n",
    "    df = pd.DataFrame(result)\n",
    "    df = df.set_index('DATEON')\n",
    "    return df\n",
    "\n",
    "def exec_query(sql) -> pd.DataFrame :\n",
    "    cur = conn.cursor()\n",
    "    cur.execute(sql)\n",
    "    result = cur.fetchall()\n",
    "    # print(result.count())\n",
    "    cur.close()\n",
    "    df = pd.DataFrame(result)\n",
    "    return df\n",
    "\n",
    "# def end_price(sql = \"select * from CRWAL_INVESTOR_STOCK_TYPE\") :\n",
    "#     return exec_query(sql)\n",
    "\n",
    "def get_daily_kosdaq() :\n",
    "    sql = 'select * from CRAWL_MARKET_DAILY_DATA'\n",
    "    return exec_query(sql)\n",
    "\n",
    "def get_daily_investors_volume() :\n",
    "    sql = \"select DATEON, PERSONAL, FOREIGNER, COMPANY, FINANCE, INSURANCE, TOOSIN, BANK, ETC_FIN, GOV_FUND, ETC_FUND from CRAWL_INVESTOR_DAILY_VOLUME where TYPE_CODE='02'\"\n",
    "    return exec_query(sql)\n",
    "\n",
    "# get_investors_volume()\n",
    "\n",
    "#end_price()\n",
    "get_daily_kosdaq()\n",
    "\n",
    "# from pycaret.datasets import get_data\n",
    "# get_data('insurance')"
   ],
   "outputs": [
    {
     "data": {
      "text/plain": "     TYPE_CODE      DATEON  CLOSING_PRICE  UP_DOWN_PER     VOLUME  VOLUME_AMT\n0       KOSDAQ  1996.07.04        1018.40         1.30      235.0      5247.0\n1       KOSDAQ  1996.07.05        1037.80         1.90       59.0       894.0\n2       KOSDAQ  1996.07.06        1048.80         1.06       34.0       338.0\n3       KOSDAQ  1996.07.08        1048.20        -0.06       39.0       822.0\n4       KOSDAQ  1996.07.09        1060.10         1.14       45.0       589.0\n...        ...         ...            ...          ...        ...         ...\n7047    KOSDAQ  2024.08.19         777.47        -1.13  1135630.0   7653030.0\n7048    KOSDAQ  2024.08.20         787.44         1.28   997056.0   7990590.0\n7049    KOSDAQ  2024.08.21         779.87        -0.96  1073930.0   8370580.0\n7050    KOSDAQ  2024.08.22         773.47        -0.82   950992.0   9216820.0\n7051    KOSDAQ  2024.08.23         773.62         0.02   876114.0   7724720.0\n\n[7052 rows x 6 columns]",
      "text/html": "<div>\n<style scoped>\n    .dataframe tbody tr th:only-of-type {\n        vertical-align: middle;\n    }\n\n    .dataframe tbody tr th {\n        vertical-align: top;\n    }\n\n    .dataframe thead th {\n        text-align: right;\n    }\n</style>\n<table border=\"1\" class=\"dataframe\">\n  <thead>\n    <tr style=\"text-align: right;\">\n      <th></th>\n      <th>TYPE_CODE</th>\n      <th>DATEON</th>\n      <th>CLOSING_PRICE</th>\n      <th>UP_DOWN_PER</th>\n      <th>VOLUME</th>\n      <th>VOLUME_AMT</th>\n    </tr>\n  </thead>\n  <tbody>\n    <tr>\n      <th>0</th>\n      <td>KOSDAQ</td>\n      <td>1996.07.04</td>\n      <td>1018.40</td>\n      <td>1.30</td>\n      <td>235.0</td>\n      <td>5247.0</td>\n    </tr>\n    <tr>\n      <th>1</th>\n      <td>KOSDAQ</td>\n      <td>1996.07.05</td>\n      <td>1037.80</td>\n      <td>1.90</td>\n      <td>59.0</td>\n      <td>894.0</td>\n    </tr>\n    <tr>\n      <th>2</th>\n      <td>KOSDAQ</td>\n      <td>1996.07.06</td>\n      <td>1048.80</td>\n      <td>1.06</td>\n      <td>34.0</td>\n      <td>338.0</td>\n    </tr>\n    <tr>\n      <th>3</th>\n      <td>KOSDAQ</td>\n      <td>1996.07.08</td>\n      <td>1048.20</td>\n      <td>-0.06</td>\n      <td>39.0</td>\n      <td>822.0</td>\n    </tr>\n    <tr>\n      <th>4</th>\n      <td>KOSDAQ</td>\n      <td>1996.07.09</td>\n      <td>1060.10</td>\n      <td>1.14</td>\n      <td>45.0</td>\n      <td>589.0</td>\n    </tr>\n    <tr>\n      <th>...</th>\n      <td>...</td>\n      <td>...</td>\n      <td>...</td>\n      <td>...</td>\n      <td>...</td>\n      <td>...</td>\n    </tr>\n    <tr>\n      <th>7047</th>\n      <td>KOSDAQ</td>\n      <td>2024.08.19</td>\n      <td>777.47</td>\n      <td>-1.13</td>\n      <td>1135630.0</td>\n      <td>7653030.0</td>\n    </tr>\n    <tr>\n      <th>7048</th>\n      <td>KOSDAQ</td>\n      <td>2024.08.20</td>\n      <td>787.44</td>\n      <td>1.28</td>\n      <td>997056.0</td>\n      <td>7990590.0</td>\n    </tr>\n    <tr>\n      <th>7049</th>\n      <td>KOSDAQ</td>\n      <td>2024.08.21</td>\n      <td>779.87</td>\n      <td>-0.96</td>\n      <td>1073930.0</td>\n      <td>8370580.0</td>\n    </tr>\n    <tr>\n      <th>7050</th>\n      <td>KOSDAQ</td>\n      <td>2024.08.22</td>\n      <td>773.47</td>\n      <td>-0.82</td>\n      <td>950992.0</td>\n      <td>9216820.0</td>\n    </tr>\n    <tr>\n      <th>7051</th>\n      <td>KOSDAQ</td>\n      <td>2024.08.23</td>\n      <td>773.62</td>\n      <td>0.02</td>\n      <td>876114.0</td>\n      <td>7724720.0</td>\n    </tr>\n  </tbody>\n</table>\n<p>7052 rows × 6 columns</p>\n</div>"
     },
     "execution_count": 1,
     "metadata": {},
     "output_type": "execute_result"
    }
   ],
   "execution_count": 1
  },
  {
   "metadata": {
    "ExecuteTime": {
     "end_time": "2024-08-23T07:26:19.957728Z",
     "start_time": "2024-08-23T07:26:19.840925Z"
    }
   },
   "cell_type": "code",
   "source": [
    "investors_volume = get_daily_investors_volume()\n",
    "# investors_volume = investors_volume.sort_value(by=['DATEON'], axis=0, ascending=True)\n",
    "# investors_volume.reset_index()\n",
    "investors_volume = investors_volume.set_index('DATEON')\n",
    "investors_volume.sort_index(ascending=False, inplace=True)\n",
    "\n",
    "daily_kosdaq = get_daily_kosdaq()\n",
    "daily_kosdaq['DATEON'] = daily_kosdaq['DATEON'].str[2:]\n",
    "daily_kosdaq.set_index('DATEON').drop(labels = ['TYPE_CODE'], axis=1)\n",
    "\n",
    "import pandas as pd\n",
    "\n",
    "merged = pd.merge(left=investors_volume, right=daily_kosdaq, how='inner', on='DATEON')\n",
    "\n",
    "merged.set_index('DATEON')\n",
    "merged.sort_index(ascending=True, inplace=True)\n",
    "merged = merged.set_index('DATEON')\n",
    "merged = merged.drop(labels = ['TYPE_CODE'], axis=1)\n",
    "merged"
   ],
   "id": "dd4c5d15b9bfe684",
   "outputs": [
    {
     "data": {
      "text/plain": "          PERSONAL  FOREIGNER  COMPANY  FINANCE  INSURANCE  TOOSIN  BANK  \\\nDATEON                                                                     \n24.08.23    -536.0      982.0   -107.0     56.0       37.0  -158.0  -8.0   \n24.08.22    1745.0     -817.0   -746.0     35.0        6.0  -635.0  -7.0   \n24.08.21    3639.0    -3343.0    -47.0    276.0       35.0  -414.0  -4.0   \n24.08.20   -1106.0     1005.0    156.0    218.0       25.0  -204.0  -5.0   \n24.08.19    1394.0    -1130.0   -134.0    -59.0       31.0   -43.0   0.0   \n...            ...        ...      ...      ...        ...     ...   ...   \n05.01.25     275.0      -76.0   -199.0    -24.0      -17.0     4.0 -34.0   \n05.01.24     321.0     -124.0   -196.0    -33.0       12.0   -48.0  22.0   \n05.01.21     235.0     -177.0    -58.0      3.0      -17.0   -49.0  24.0   \n05.01.20     323.0     -185.0   -138.0      6.0       13.0     5.0 -45.0   \n05.01.19     380.0     -250.0   -130.0     46.0        9.0   -98.0 -20.0   \n\n          ETC_FIN  GOV_FUND  ETC_FUND  CLOSING_PRICE  UP_DOWN_PER     VOLUME  \\\nDATEON                                                                         \n24.08.23   -179.0     145.0    -339.0         773.62         0.02   876114.0   \n24.08.22   -149.0       4.0    -183.0         773.47        -0.82   950992.0   \n24.08.21      4.0      57.0    -249.0         779.87        -0.96  1073930.0   \n24.08.20    -54.0     176.0     -55.0         787.44         1.28   997056.0   \n24.08.19    -54.0      -8.0    -130.0         777.47        -1.13  1135630.0   \n...           ...       ...       ...            ...          ...        ...   \n05.01.25    -11.0    -117.0       0.0         467.29        -1.15   691510.0   \n05.01.24    -15.0    -135.0       0.0         472.75         2.63   603670.0   \n05.01.21     -2.0     -17.0       0.0         460.62         2.22   607820.0   \n05.01.20      7.0    -124.0       0.0         450.63        -1.09   709356.0   \n05.01.19    -35.0     -33.0       0.0         455.59         1.46   626990.0   \n\n          VOLUME_AMT  \nDATEON                \n24.08.23   7724720.0  \n24.08.22   9216820.0  \n24.08.21   8370580.0  \n24.08.20   7990590.0  \n24.08.19   7653030.0  \n...              ...  \n05.01.25   1931120.0  \n05.01.24   1756330.0  \n05.01.21   1587980.0  \n05.01.20   1847210.0  \n05.01.19   1779610.0  \n\n[4844 rows x 14 columns]",
      "text/html": "<div>\n<style scoped>\n    .dataframe tbody tr th:only-of-type {\n        vertical-align: middle;\n    }\n\n    .dataframe tbody tr th {\n        vertical-align: top;\n    }\n\n    .dataframe thead th {\n        text-align: right;\n    }\n</style>\n<table border=\"1\" class=\"dataframe\">\n  <thead>\n    <tr style=\"text-align: right;\">\n      <th></th>\n      <th>PERSONAL</th>\n      <th>FOREIGNER</th>\n      <th>COMPANY</th>\n      <th>FINANCE</th>\n      <th>INSURANCE</th>\n      <th>TOOSIN</th>\n      <th>BANK</th>\n      <th>ETC_FIN</th>\n      <th>GOV_FUND</th>\n      <th>ETC_FUND</th>\n      <th>CLOSING_PRICE</th>\n      <th>UP_DOWN_PER</th>\n      <th>VOLUME</th>\n      <th>VOLUME_AMT</th>\n    </tr>\n    <tr>\n      <th>DATEON</th>\n      <th></th>\n      <th></th>\n      <th></th>\n      <th></th>\n      <th></th>\n      <th></th>\n      <th></th>\n      <th></th>\n      <th></th>\n      <th></th>\n      <th></th>\n      <th></th>\n      <th></th>\n      <th></th>\n    </tr>\n  </thead>\n  <tbody>\n    <tr>\n      <th>24.08.23</th>\n      <td>-536.0</td>\n      <td>982.0</td>\n      <td>-107.0</td>\n      <td>56.0</td>\n      <td>37.0</td>\n      <td>-158.0</td>\n      <td>-8.0</td>\n      <td>-179.0</td>\n      <td>145.0</td>\n      <td>-339.0</td>\n      <td>773.62</td>\n      <td>0.02</td>\n      <td>876114.0</td>\n      <td>7724720.0</td>\n    </tr>\n    <tr>\n      <th>24.08.22</th>\n      <td>1745.0</td>\n      <td>-817.0</td>\n      <td>-746.0</td>\n      <td>35.0</td>\n      <td>6.0</td>\n      <td>-635.0</td>\n      <td>-7.0</td>\n      <td>-149.0</td>\n      <td>4.0</td>\n      <td>-183.0</td>\n      <td>773.47</td>\n      <td>-0.82</td>\n      <td>950992.0</td>\n      <td>9216820.0</td>\n    </tr>\n    <tr>\n      <th>24.08.21</th>\n      <td>3639.0</td>\n      <td>-3343.0</td>\n      <td>-47.0</td>\n      <td>276.0</td>\n      <td>35.0</td>\n      <td>-414.0</td>\n      <td>-4.0</td>\n      <td>4.0</td>\n      <td>57.0</td>\n      <td>-249.0</td>\n      <td>779.87</td>\n      <td>-0.96</td>\n      <td>1073930.0</td>\n      <td>8370580.0</td>\n    </tr>\n    <tr>\n      <th>24.08.20</th>\n      <td>-1106.0</td>\n      <td>1005.0</td>\n      <td>156.0</td>\n      <td>218.0</td>\n      <td>25.0</td>\n      <td>-204.0</td>\n      <td>-5.0</td>\n      <td>-54.0</td>\n      <td>176.0</td>\n      <td>-55.0</td>\n      <td>787.44</td>\n      <td>1.28</td>\n      <td>997056.0</td>\n      <td>7990590.0</td>\n    </tr>\n    <tr>\n      <th>24.08.19</th>\n      <td>1394.0</td>\n      <td>-1130.0</td>\n      <td>-134.0</td>\n      <td>-59.0</td>\n      <td>31.0</td>\n      <td>-43.0</td>\n      <td>0.0</td>\n      <td>-54.0</td>\n      <td>-8.0</td>\n      <td>-130.0</td>\n      <td>777.47</td>\n      <td>-1.13</td>\n      <td>1135630.0</td>\n      <td>7653030.0</td>\n    </tr>\n    <tr>\n      <th>...</th>\n      <td>...</td>\n      <td>...</td>\n      <td>...</td>\n      <td>...</td>\n      <td>...</td>\n      <td>...</td>\n      <td>...</td>\n      <td>...</td>\n      <td>...</td>\n      <td>...</td>\n      <td>...</td>\n      <td>...</td>\n      <td>...</td>\n      <td>...</td>\n    </tr>\n    <tr>\n      <th>05.01.25</th>\n      <td>275.0</td>\n      <td>-76.0</td>\n      <td>-199.0</td>\n      <td>-24.0</td>\n      <td>-17.0</td>\n      <td>4.0</td>\n      <td>-34.0</td>\n      <td>-11.0</td>\n      <td>-117.0</td>\n      <td>0.0</td>\n      <td>467.29</td>\n      <td>-1.15</td>\n      <td>691510.0</td>\n      <td>1931120.0</td>\n    </tr>\n    <tr>\n      <th>05.01.24</th>\n      <td>321.0</td>\n      <td>-124.0</td>\n      <td>-196.0</td>\n      <td>-33.0</td>\n      <td>12.0</td>\n      <td>-48.0</td>\n      <td>22.0</td>\n      <td>-15.0</td>\n      <td>-135.0</td>\n      <td>0.0</td>\n      <td>472.75</td>\n      <td>2.63</td>\n      <td>603670.0</td>\n      <td>1756330.0</td>\n    </tr>\n    <tr>\n      <th>05.01.21</th>\n      <td>235.0</td>\n      <td>-177.0</td>\n      <td>-58.0</td>\n      <td>3.0</td>\n      <td>-17.0</td>\n      <td>-49.0</td>\n      <td>24.0</td>\n      <td>-2.0</td>\n      <td>-17.0</td>\n      <td>0.0</td>\n      <td>460.62</td>\n      <td>2.22</td>\n      <td>607820.0</td>\n      <td>1587980.0</td>\n    </tr>\n    <tr>\n      <th>05.01.20</th>\n      <td>323.0</td>\n      <td>-185.0</td>\n      <td>-138.0</td>\n      <td>6.0</td>\n      <td>13.0</td>\n      <td>5.0</td>\n      <td>-45.0</td>\n      <td>7.0</td>\n      <td>-124.0</td>\n      <td>0.0</td>\n      <td>450.63</td>\n      <td>-1.09</td>\n      <td>709356.0</td>\n      <td>1847210.0</td>\n    </tr>\n    <tr>\n      <th>05.01.19</th>\n      <td>380.0</td>\n      <td>-250.0</td>\n      <td>-130.0</td>\n      <td>46.0</td>\n      <td>9.0</td>\n      <td>-98.0</td>\n      <td>-20.0</td>\n      <td>-35.0</td>\n      <td>-33.0</td>\n      <td>0.0</td>\n      <td>455.59</td>\n      <td>1.46</td>\n      <td>626990.0</td>\n      <td>1779610.0</td>\n    </tr>\n  </tbody>\n</table>\n<p>4844 rows × 14 columns</p>\n</div>"
     },
     "execution_count": 2,
     "metadata": {},
     "output_type": "execute_result"
    }
   ],
   "execution_count": 2
  },
  {
   "metadata": {
    "ExecuteTime": {
     "end_time": "2024-08-23T07:26:20.867296Z",
     "start_time": "2024-08-23T07:26:20.798448Z"
    }
   },
   "cell_type": "code",
   "source": [
    "def create_ex_columns(df , name: str) :\n",
    "    # print(name + ' newly added ..')\n",
    "    df[name + '_SUM_D5'] = df[name].rolling(5).sum().shift(1)\n",
    "    df[name + '_AVG_D5'] = df[name].rolling(5).mean().shift(1)\n",
    "    df[name + '_STD_D5'] = df[name].rolling(5).std().shift(1)\n",
    "    df[name + '_SUM_D10'] = df[name].rolling(10).sum().shift(1)\n",
    "    df[name + '_AVG_D10'] = df[name].rolling(10).mean().shift(1)\n",
    "    df[name + '_STD_D10'] = df[name].rolling(10).std().shift(1)\n",
    "    df[name + '_SUM_D20'] = df[name].rolling(20).sum().shift(1)\n",
    "    df[name + '_AVG_D20'] = df[name].rolling(20).mean().shift(1)\n",
    "    df[name + '_STD_D20'] = df[name].rolling(20).std().shift(1)\n",
    "\n",
    "feature_cols = ['PERSONAL', 'FOREIGNER', 'COMPANY', 'FINANCE', 'INSURANCE', 'TOOSIN', 'BANK', 'ETC_FIN', 'GOV_FUND', 'ETC_FUND',\n",
    "                'CLOSING_PRICE', 'UP_DOWN_PER', 'VOLUME', 'VOLUME_AMT']\n",
    "\n",
    "for col in feature_cols:\n",
    "    create_ex_columns(merged, col)\n",
    "    \n",
    "# merged['PRED_OUT'] = merged['CLOSING_PRICE'].shift(1)\n",
    "merged['PRED_OUT_D3'] = merged['CLOSING_PRICE'].rolling(3).mean().shift(1)\n",
    "# merged[['CLOSING_PRICE', 'PRED_OUT', 'PRED_OUT_D3']]\n",
    "merged = merged.dropna()\n",
    "merged.sort_index(ascending=False)\n",
    "merged                          "
   ],
   "id": "39becac616156bbe",
   "outputs": [
    {
     "name": "stderr",
     "output_type": "stream",
     "text": [
      "/var/folders/vs/tzb5k9f92k14smyyxl44gdwh0000gn/T/ipykernel_64362/4029696418.py:11: PerformanceWarning: DataFrame is highly fragmented.  This is usually the result of calling `frame.insert` many times, which has poor performance.  Consider joining all columns at once using pd.concat(axis=1) instead. To get a de-fragmented frame, use `newframe = frame.copy()`\n",
      "  df[name + '_STD_D20'] = df[name].rolling(20).std().shift(1)\n",
      "/var/folders/vs/tzb5k9f92k14smyyxl44gdwh0000gn/T/ipykernel_64362/4029696418.py:3: PerformanceWarning: DataFrame is highly fragmented.  This is usually the result of calling `frame.insert` many times, which has poor performance.  Consider joining all columns at once using pd.concat(axis=1) instead. To get a de-fragmented frame, use `newframe = frame.copy()`\n",
      "  df[name + '_SUM_D5'] = df[name].rolling(5).sum().shift(1)\n",
      "/var/folders/vs/tzb5k9f92k14smyyxl44gdwh0000gn/T/ipykernel_64362/4029696418.py:4: PerformanceWarning: DataFrame is highly fragmented.  This is usually the result of calling `frame.insert` many times, which has poor performance.  Consider joining all columns at once using pd.concat(axis=1) instead. To get a de-fragmented frame, use `newframe = frame.copy()`\n",
      "  df[name + '_AVG_D5'] = df[name].rolling(5).mean().shift(1)\n",
      "/var/folders/vs/tzb5k9f92k14smyyxl44gdwh0000gn/T/ipykernel_64362/4029696418.py:5: PerformanceWarning: DataFrame is highly fragmented.  This is usually the result of calling `frame.insert` many times, which has poor performance.  Consider joining all columns at once using pd.concat(axis=1) instead. To get a de-fragmented frame, use `newframe = frame.copy()`\n",
      "  df[name + '_STD_D5'] = df[name].rolling(5).std().shift(1)\n",
      "/var/folders/vs/tzb5k9f92k14smyyxl44gdwh0000gn/T/ipykernel_64362/4029696418.py:6: PerformanceWarning: DataFrame is highly fragmented.  This is usually the result of calling `frame.insert` many times, which has poor performance.  Consider joining all columns at once using pd.concat(axis=1) instead. To get a de-fragmented frame, use `newframe = frame.copy()`\n",
      "  df[name + '_SUM_D10'] = df[name].rolling(10).sum().shift(1)\n",
      "/var/folders/vs/tzb5k9f92k14smyyxl44gdwh0000gn/T/ipykernel_64362/4029696418.py:7: PerformanceWarning: DataFrame is highly fragmented.  This is usually the result of calling `frame.insert` many times, which has poor performance.  Consider joining all columns at once using pd.concat(axis=1) instead. To get a de-fragmented frame, use `newframe = frame.copy()`\n",
      "  df[name + '_AVG_D10'] = df[name].rolling(10).mean().shift(1)\n",
      "/var/folders/vs/tzb5k9f92k14smyyxl44gdwh0000gn/T/ipykernel_64362/4029696418.py:8: PerformanceWarning: DataFrame is highly fragmented.  This is usually the result of calling `frame.insert` many times, which has poor performance.  Consider joining all columns at once using pd.concat(axis=1) instead. To get a de-fragmented frame, use `newframe = frame.copy()`\n",
      "  df[name + '_STD_D10'] = df[name].rolling(10).std().shift(1)\n",
      "/var/folders/vs/tzb5k9f92k14smyyxl44gdwh0000gn/T/ipykernel_64362/4029696418.py:9: PerformanceWarning: DataFrame is highly fragmented.  This is usually the result of calling `frame.insert` many times, which has poor performance.  Consider joining all columns at once using pd.concat(axis=1) instead. To get a de-fragmented frame, use `newframe = frame.copy()`\n",
      "  df[name + '_SUM_D20'] = df[name].rolling(20).sum().shift(1)\n",
      "/var/folders/vs/tzb5k9f92k14smyyxl44gdwh0000gn/T/ipykernel_64362/4029696418.py:10: PerformanceWarning: DataFrame is highly fragmented.  This is usually the result of calling `frame.insert` many times, which has poor performance.  Consider joining all columns at once using pd.concat(axis=1) instead. To get a de-fragmented frame, use `newframe = frame.copy()`\n",
      "  df[name + '_AVG_D20'] = df[name].rolling(20).mean().shift(1)\n",
      "/var/folders/vs/tzb5k9f92k14smyyxl44gdwh0000gn/T/ipykernel_64362/4029696418.py:11: PerformanceWarning: DataFrame is highly fragmented.  This is usually the result of calling `frame.insert` many times, which has poor performance.  Consider joining all columns at once using pd.concat(axis=1) instead. To get a de-fragmented frame, use `newframe = frame.copy()`\n",
      "  df[name + '_STD_D20'] = df[name].rolling(20).std().shift(1)\n",
      "/var/folders/vs/tzb5k9f92k14smyyxl44gdwh0000gn/T/ipykernel_64362/4029696418.py:3: PerformanceWarning: DataFrame is highly fragmented.  This is usually the result of calling `frame.insert` many times, which has poor performance.  Consider joining all columns at once using pd.concat(axis=1) instead. To get a de-fragmented frame, use `newframe = frame.copy()`\n",
      "  df[name + '_SUM_D5'] = df[name].rolling(5).sum().shift(1)\n",
      "/var/folders/vs/tzb5k9f92k14smyyxl44gdwh0000gn/T/ipykernel_64362/4029696418.py:4: PerformanceWarning: DataFrame is highly fragmented.  This is usually the result of calling `frame.insert` many times, which has poor performance.  Consider joining all columns at once using pd.concat(axis=1) instead. To get a de-fragmented frame, use `newframe = frame.copy()`\n",
      "  df[name + '_AVG_D5'] = df[name].rolling(5).mean().shift(1)\n",
      "/var/folders/vs/tzb5k9f92k14smyyxl44gdwh0000gn/T/ipykernel_64362/4029696418.py:5: PerformanceWarning: DataFrame is highly fragmented.  This is usually the result of calling `frame.insert` many times, which has poor performance.  Consider joining all columns at once using pd.concat(axis=1) instead. To get a de-fragmented frame, use `newframe = frame.copy()`\n",
      "  df[name + '_STD_D5'] = df[name].rolling(5).std().shift(1)\n",
      "/var/folders/vs/tzb5k9f92k14smyyxl44gdwh0000gn/T/ipykernel_64362/4029696418.py:6: PerformanceWarning: DataFrame is highly fragmented.  This is usually the result of calling `frame.insert` many times, which has poor performance.  Consider joining all columns at once using pd.concat(axis=1) instead. To get a de-fragmented frame, use `newframe = frame.copy()`\n",
      "  df[name + '_SUM_D10'] = df[name].rolling(10).sum().shift(1)\n",
      "/var/folders/vs/tzb5k9f92k14smyyxl44gdwh0000gn/T/ipykernel_64362/4029696418.py:7: PerformanceWarning: DataFrame is highly fragmented.  This is usually the result of calling `frame.insert` many times, which has poor performance.  Consider joining all columns at once using pd.concat(axis=1) instead. To get a de-fragmented frame, use `newframe = frame.copy()`\n",
      "  df[name + '_AVG_D10'] = df[name].rolling(10).mean().shift(1)\n",
      "/var/folders/vs/tzb5k9f92k14smyyxl44gdwh0000gn/T/ipykernel_64362/4029696418.py:8: PerformanceWarning: DataFrame is highly fragmented.  This is usually the result of calling `frame.insert` many times, which has poor performance.  Consider joining all columns at once using pd.concat(axis=1) instead. To get a de-fragmented frame, use `newframe = frame.copy()`\n",
      "  df[name + '_STD_D10'] = df[name].rolling(10).std().shift(1)\n",
      "/var/folders/vs/tzb5k9f92k14smyyxl44gdwh0000gn/T/ipykernel_64362/4029696418.py:9: PerformanceWarning: DataFrame is highly fragmented.  This is usually the result of calling `frame.insert` many times, which has poor performance.  Consider joining all columns at once using pd.concat(axis=1) instead. To get a de-fragmented frame, use `newframe = frame.copy()`\n",
      "  df[name + '_SUM_D20'] = df[name].rolling(20).sum().shift(1)\n",
      "/var/folders/vs/tzb5k9f92k14smyyxl44gdwh0000gn/T/ipykernel_64362/4029696418.py:10: PerformanceWarning: DataFrame is highly fragmented.  This is usually the result of calling `frame.insert` many times, which has poor performance.  Consider joining all columns at once using pd.concat(axis=1) instead. To get a de-fragmented frame, use `newframe = frame.copy()`\n",
      "  df[name + '_AVG_D20'] = df[name].rolling(20).mean().shift(1)\n",
      "/var/folders/vs/tzb5k9f92k14smyyxl44gdwh0000gn/T/ipykernel_64362/4029696418.py:11: PerformanceWarning: DataFrame is highly fragmented.  This is usually the result of calling `frame.insert` many times, which has poor performance.  Consider joining all columns at once using pd.concat(axis=1) instead. To get a de-fragmented frame, use `newframe = frame.copy()`\n",
      "  df[name + '_STD_D20'] = df[name].rolling(20).std().shift(1)\n",
      "/var/folders/vs/tzb5k9f92k14smyyxl44gdwh0000gn/T/ipykernel_64362/4029696418.py:3: PerformanceWarning: DataFrame is highly fragmented.  This is usually the result of calling `frame.insert` many times, which has poor performance.  Consider joining all columns at once using pd.concat(axis=1) instead. To get a de-fragmented frame, use `newframe = frame.copy()`\n",
      "  df[name + '_SUM_D5'] = df[name].rolling(5).sum().shift(1)\n",
      "/var/folders/vs/tzb5k9f92k14smyyxl44gdwh0000gn/T/ipykernel_64362/4029696418.py:4: PerformanceWarning: DataFrame is highly fragmented.  This is usually the result of calling `frame.insert` many times, which has poor performance.  Consider joining all columns at once using pd.concat(axis=1) instead. To get a de-fragmented frame, use `newframe = frame.copy()`\n",
      "  df[name + '_AVG_D5'] = df[name].rolling(5).mean().shift(1)\n",
      "/var/folders/vs/tzb5k9f92k14smyyxl44gdwh0000gn/T/ipykernel_64362/4029696418.py:5: PerformanceWarning: DataFrame is highly fragmented.  This is usually the result of calling `frame.insert` many times, which has poor performance.  Consider joining all columns at once using pd.concat(axis=1) instead. To get a de-fragmented frame, use `newframe = frame.copy()`\n",
      "  df[name + '_STD_D5'] = df[name].rolling(5).std().shift(1)\n",
      "/var/folders/vs/tzb5k9f92k14smyyxl44gdwh0000gn/T/ipykernel_64362/4029696418.py:6: PerformanceWarning: DataFrame is highly fragmented.  This is usually the result of calling `frame.insert` many times, which has poor performance.  Consider joining all columns at once using pd.concat(axis=1) instead. To get a de-fragmented frame, use `newframe = frame.copy()`\n",
      "  df[name + '_SUM_D10'] = df[name].rolling(10).sum().shift(1)\n",
      "/var/folders/vs/tzb5k9f92k14smyyxl44gdwh0000gn/T/ipykernel_64362/4029696418.py:7: PerformanceWarning: DataFrame is highly fragmented.  This is usually the result of calling `frame.insert` many times, which has poor performance.  Consider joining all columns at once using pd.concat(axis=1) instead. To get a de-fragmented frame, use `newframe = frame.copy()`\n",
      "  df[name + '_AVG_D10'] = df[name].rolling(10).mean().shift(1)\n",
      "/var/folders/vs/tzb5k9f92k14smyyxl44gdwh0000gn/T/ipykernel_64362/4029696418.py:8: PerformanceWarning: DataFrame is highly fragmented.  This is usually the result of calling `frame.insert` many times, which has poor performance.  Consider joining all columns at once using pd.concat(axis=1) instead. To get a de-fragmented frame, use `newframe = frame.copy()`\n",
      "  df[name + '_STD_D10'] = df[name].rolling(10).std().shift(1)\n",
      "/var/folders/vs/tzb5k9f92k14smyyxl44gdwh0000gn/T/ipykernel_64362/4029696418.py:9: PerformanceWarning: DataFrame is highly fragmented.  This is usually the result of calling `frame.insert` many times, which has poor performance.  Consider joining all columns at once using pd.concat(axis=1) instead. To get a de-fragmented frame, use `newframe = frame.copy()`\n",
      "  df[name + '_SUM_D20'] = df[name].rolling(20).sum().shift(1)\n",
      "/var/folders/vs/tzb5k9f92k14smyyxl44gdwh0000gn/T/ipykernel_64362/4029696418.py:10: PerformanceWarning: DataFrame is highly fragmented.  This is usually the result of calling `frame.insert` many times, which has poor performance.  Consider joining all columns at once using pd.concat(axis=1) instead. To get a de-fragmented frame, use `newframe = frame.copy()`\n",
      "  df[name + '_AVG_D20'] = df[name].rolling(20).mean().shift(1)\n",
      "/var/folders/vs/tzb5k9f92k14smyyxl44gdwh0000gn/T/ipykernel_64362/4029696418.py:11: PerformanceWarning: DataFrame is highly fragmented.  This is usually the result of calling `frame.insert` many times, which has poor performance.  Consider joining all columns at once using pd.concat(axis=1) instead. To get a de-fragmented frame, use `newframe = frame.copy()`\n",
      "  df[name + '_STD_D20'] = df[name].rolling(20).std().shift(1)\n",
      "/var/folders/vs/tzb5k9f92k14smyyxl44gdwh0000gn/T/ipykernel_64362/4029696418.py:20: PerformanceWarning: DataFrame is highly fragmented.  This is usually the result of calling `frame.insert` many times, which has poor performance.  Consider joining all columns at once using pd.concat(axis=1) instead. To get a de-fragmented frame, use `newframe = frame.copy()`\n",
      "  merged['PRED_OUT_D3'] = merged['CLOSING_PRICE'].rolling(3).mean().shift(1)\n"
     ]
    },
    {
     "data": {
      "text/plain": "          PERSONAL  FOREIGNER  COMPANY  FINANCE  INSURANCE  TOOSIN  BANK  \\\nDATEON                                                                     \n24.07.25     959.0    -1395.0    506.0   2059.0      -83.0 -1048.0 -15.0   \n24.07.24     460.0     -320.0    208.0     82.0       23.0    -5.0   3.0   \n24.07.23   -1807.0     1222.0    558.0    128.0       46.0   499.0  -5.0   \n24.07.22    2592.0    -1809.0   -869.0    123.0      -33.0  -580.0 -20.0   \n24.07.19    -225.0     -312.0    650.0   -185.0       38.0   706.0  -1.0   \n...            ...        ...      ...      ...        ...     ...   ...   \n05.01.25     275.0      -76.0   -199.0    -24.0      -17.0     4.0 -34.0   \n05.01.24     321.0     -124.0   -196.0    -33.0       12.0   -48.0  22.0   \n05.01.21     235.0     -177.0    -58.0      3.0      -17.0   -49.0  24.0   \n05.01.20     323.0     -185.0   -138.0      6.0       13.0     5.0 -45.0   \n05.01.19     380.0     -250.0   -130.0     46.0        9.0   -98.0 -20.0   \n\n          ETC_FIN  GOV_FUND  ETC_FUND  ...  VOLUME_AMT_SUM_D5  \\\nDATEON                                 ...                      \n24.07.25    -42.0    -366.0     -69.0  ...         30066920.0   \n24.07.24    -21.0     127.0    -348.0  ...         31265570.0   \n24.07.23     -6.0    -105.0      27.0  ...         31137040.0   \n24.07.22     -5.0    -354.0      86.0  ...         32211980.0   \n24.07.19     -4.0      96.0    -113.0  ...         33514900.0   \n...           ...       ...       ...  ...                ...   \n05.01.25    -11.0    -117.0       0.0  ...          9469240.0   \n05.01.24    -15.0    -135.0       0.0  ...          9747110.0   \n05.01.21     -2.0     -17.0       0.0  ...          9783470.0   \n05.01.20      7.0    -124.0       0.0  ...          9581690.0   \n05.01.19    -35.0     -33.0       0.0  ...          9402060.0   \n\n          VOLUME_AMT_AVG_D5  VOLUME_AMT_STD_D5  VOLUME_AMT_SUM_D10  \\\nDATEON                                                               \n24.07.25          6013384.0      530804.850044          68566060.0   \n24.07.24          6253114.0      780692.180875          68675470.0   \n24.07.23          6227408.0      763346.728636          67933780.0   \n24.07.22          6442396.0      912459.906122          66889050.0   \n24.07.19          6702980.0      687739.033210          64494990.0   \n...                     ...                ...                 ...   \n05.01.25          1893848.0      257540.243205          16780760.0   \n05.01.24          1949422.0      219867.780996          17121730.0   \n05.01.21          1956694.0      210795.668077          17560600.0   \n05.01.20          1916338.0      263476.409988          17792920.0   \n05.01.19          1880412.0      256804.339663          18154600.0   \n\n          VOLUME_AMT_AVG_D10  VOLUME_AMT_STD_D10  VOLUME_AMT_SUM_D20  \\\nDATEON                                                                 \n24.07.25           6856606.0        1.169718e+06         147118810.0   \n24.07.24           6867547.0        1.173480e+06         146673490.0   \n24.07.23           6793378.0        1.164094e+06         144049410.0   \n24.07.22           6688905.0        1.046631e+06         143016130.0   \n24.07.19           6449499.0        6.354720e+05         141697700.0   \n...                      ...                 ...                 ...   \n05.01.25           1678076.0        2.963113e+05          35715190.0   \n05.01.24           1712173.0        3.045722e+05          35893720.0   \n05.01.21           1756060.0        2.711639e+05          35836330.0   \n05.01.20           1779292.0        2.413624e+05          35834790.0   \n05.01.19           1815460.0        2.184637e+05          35956460.0   \n\n          VOLUME_AMT_AVG_D20  VOLUME_AMT_STD_D20  PRED_OUT_D3  \nDATEON                                                         \n24.07.25           7355940.5        1.046436e+06   803.110000  \n24.07.24           7333674.5        1.042908e+06   800.946667  \n24.07.23           7202470.5        9.548749e+05   803.033333  \n24.07.22           7150806.5        9.154881e+05   807.886667  \n24.07.19           7084885.0        8.991576e+05   812.110000  \n...                      ...                 ...          ...  \n05.01.25           1785759.5        2.753623e+05   467.823333  \n05.01.24           1794686.0        2.771186e+05   467.410000  \n05.01.21           1791816.5        2.772082e+05   469.510000  \n05.01.20           1791739.5        2.772676e+05   466.886667  \n05.01.19           1797823.0        2.770733e+05   461.333333  \n\n[4824 rows x 141 columns]",
      "text/html": "<div>\n<style scoped>\n    .dataframe tbody tr th:only-of-type {\n        vertical-align: middle;\n    }\n\n    .dataframe tbody tr th {\n        vertical-align: top;\n    }\n\n    .dataframe thead th {\n        text-align: right;\n    }\n</style>\n<table border=\"1\" class=\"dataframe\">\n  <thead>\n    <tr style=\"text-align: right;\">\n      <th></th>\n      <th>PERSONAL</th>\n      <th>FOREIGNER</th>\n      <th>COMPANY</th>\n      <th>FINANCE</th>\n      <th>INSURANCE</th>\n      <th>TOOSIN</th>\n      <th>BANK</th>\n      <th>ETC_FIN</th>\n      <th>GOV_FUND</th>\n      <th>ETC_FUND</th>\n      <th>...</th>\n      <th>VOLUME_AMT_SUM_D5</th>\n      <th>VOLUME_AMT_AVG_D5</th>\n      <th>VOLUME_AMT_STD_D5</th>\n      <th>VOLUME_AMT_SUM_D10</th>\n      <th>VOLUME_AMT_AVG_D10</th>\n      <th>VOLUME_AMT_STD_D10</th>\n      <th>VOLUME_AMT_SUM_D20</th>\n      <th>VOLUME_AMT_AVG_D20</th>\n      <th>VOLUME_AMT_STD_D20</th>\n      <th>PRED_OUT_D3</th>\n    </tr>\n    <tr>\n      <th>DATEON</th>\n      <th></th>\n      <th></th>\n      <th></th>\n      <th></th>\n      <th></th>\n      <th></th>\n      <th></th>\n      <th></th>\n      <th></th>\n      <th></th>\n      <th></th>\n      <th></th>\n      <th></th>\n      <th></th>\n      <th></th>\n      <th></th>\n      <th></th>\n      <th></th>\n      <th></th>\n      <th></th>\n      <th></th>\n    </tr>\n  </thead>\n  <tbody>\n    <tr>\n      <th>24.07.25</th>\n      <td>959.0</td>\n      <td>-1395.0</td>\n      <td>506.0</td>\n      <td>2059.0</td>\n      <td>-83.0</td>\n      <td>-1048.0</td>\n      <td>-15.0</td>\n      <td>-42.0</td>\n      <td>-366.0</td>\n      <td>-69.0</td>\n      <td>...</td>\n      <td>30066920.0</td>\n      <td>6013384.0</td>\n      <td>530804.850044</td>\n      <td>68566060.0</td>\n      <td>6856606.0</td>\n      <td>1.169718e+06</td>\n      <td>147118810.0</td>\n      <td>7355940.5</td>\n      <td>1.046436e+06</td>\n      <td>803.110000</td>\n    </tr>\n    <tr>\n      <th>24.07.24</th>\n      <td>460.0</td>\n      <td>-320.0</td>\n      <td>208.0</td>\n      <td>82.0</td>\n      <td>23.0</td>\n      <td>-5.0</td>\n      <td>3.0</td>\n      <td>-21.0</td>\n      <td>127.0</td>\n      <td>-348.0</td>\n      <td>...</td>\n      <td>31265570.0</td>\n      <td>6253114.0</td>\n      <td>780692.180875</td>\n      <td>68675470.0</td>\n      <td>6867547.0</td>\n      <td>1.173480e+06</td>\n      <td>146673490.0</td>\n      <td>7333674.5</td>\n      <td>1.042908e+06</td>\n      <td>800.946667</td>\n    </tr>\n    <tr>\n      <th>24.07.23</th>\n      <td>-1807.0</td>\n      <td>1222.0</td>\n      <td>558.0</td>\n      <td>128.0</td>\n      <td>46.0</td>\n      <td>499.0</td>\n      <td>-5.0</td>\n      <td>-6.0</td>\n      <td>-105.0</td>\n      <td>27.0</td>\n      <td>...</td>\n      <td>31137040.0</td>\n      <td>6227408.0</td>\n      <td>763346.728636</td>\n      <td>67933780.0</td>\n      <td>6793378.0</td>\n      <td>1.164094e+06</td>\n      <td>144049410.0</td>\n      <td>7202470.5</td>\n      <td>9.548749e+05</td>\n      <td>803.033333</td>\n    </tr>\n    <tr>\n      <th>24.07.22</th>\n      <td>2592.0</td>\n      <td>-1809.0</td>\n      <td>-869.0</td>\n      <td>123.0</td>\n      <td>-33.0</td>\n      <td>-580.0</td>\n      <td>-20.0</td>\n      <td>-5.0</td>\n      <td>-354.0</td>\n      <td>86.0</td>\n      <td>...</td>\n      <td>32211980.0</td>\n      <td>6442396.0</td>\n      <td>912459.906122</td>\n      <td>66889050.0</td>\n      <td>6688905.0</td>\n      <td>1.046631e+06</td>\n      <td>143016130.0</td>\n      <td>7150806.5</td>\n      <td>9.154881e+05</td>\n      <td>807.886667</td>\n    </tr>\n    <tr>\n      <th>24.07.19</th>\n      <td>-225.0</td>\n      <td>-312.0</td>\n      <td>650.0</td>\n      <td>-185.0</td>\n      <td>38.0</td>\n      <td>706.0</td>\n      <td>-1.0</td>\n      <td>-4.0</td>\n      <td>96.0</td>\n      <td>-113.0</td>\n      <td>...</td>\n      <td>33514900.0</td>\n      <td>6702980.0</td>\n      <td>687739.033210</td>\n      <td>64494990.0</td>\n      <td>6449499.0</td>\n      <td>6.354720e+05</td>\n      <td>141697700.0</td>\n      <td>7084885.0</td>\n      <td>8.991576e+05</td>\n      <td>812.110000</td>\n    </tr>\n    <tr>\n      <th>...</th>\n      <td>...</td>\n      <td>...</td>\n      <td>...</td>\n      <td>...</td>\n      <td>...</td>\n      <td>...</td>\n      <td>...</td>\n      <td>...</td>\n      <td>...</td>\n      <td>...</td>\n      <td>...</td>\n      <td>...</td>\n      <td>...</td>\n      <td>...</td>\n      <td>...</td>\n      <td>...</td>\n      <td>...</td>\n      <td>...</td>\n      <td>...</td>\n      <td>...</td>\n      <td>...</td>\n    </tr>\n    <tr>\n      <th>05.01.25</th>\n      <td>275.0</td>\n      <td>-76.0</td>\n      <td>-199.0</td>\n      <td>-24.0</td>\n      <td>-17.0</td>\n      <td>4.0</td>\n      <td>-34.0</td>\n      <td>-11.0</td>\n      <td>-117.0</td>\n      <td>0.0</td>\n      <td>...</td>\n      <td>9469240.0</td>\n      <td>1893848.0</td>\n      <td>257540.243205</td>\n      <td>16780760.0</td>\n      <td>1678076.0</td>\n      <td>2.963113e+05</td>\n      <td>35715190.0</td>\n      <td>1785759.5</td>\n      <td>2.753623e+05</td>\n      <td>467.823333</td>\n    </tr>\n    <tr>\n      <th>05.01.24</th>\n      <td>321.0</td>\n      <td>-124.0</td>\n      <td>-196.0</td>\n      <td>-33.0</td>\n      <td>12.0</td>\n      <td>-48.0</td>\n      <td>22.0</td>\n      <td>-15.0</td>\n      <td>-135.0</td>\n      <td>0.0</td>\n      <td>...</td>\n      <td>9747110.0</td>\n      <td>1949422.0</td>\n      <td>219867.780996</td>\n      <td>17121730.0</td>\n      <td>1712173.0</td>\n      <td>3.045722e+05</td>\n      <td>35893720.0</td>\n      <td>1794686.0</td>\n      <td>2.771186e+05</td>\n      <td>467.410000</td>\n    </tr>\n    <tr>\n      <th>05.01.21</th>\n      <td>235.0</td>\n      <td>-177.0</td>\n      <td>-58.0</td>\n      <td>3.0</td>\n      <td>-17.0</td>\n      <td>-49.0</td>\n      <td>24.0</td>\n      <td>-2.0</td>\n      <td>-17.0</td>\n      <td>0.0</td>\n      <td>...</td>\n      <td>9783470.0</td>\n      <td>1956694.0</td>\n      <td>210795.668077</td>\n      <td>17560600.0</td>\n      <td>1756060.0</td>\n      <td>2.711639e+05</td>\n      <td>35836330.0</td>\n      <td>1791816.5</td>\n      <td>2.772082e+05</td>\n      <td>469.510000</td>\n    </tr>\n    <tr>\n      <th>05.01.20</th>\n      <td>323.0</td>\n      <td>-185.0</td>\n      <td>-138.0</td>\n      <td>6.0</td>\n      <td>13.0</td>\n      <td>5.0</td>\n      <td>-45.0</td>\n      <td>7.0</td>\n      <td>-124.0</td>\n      <td>0.0</td>\n      <td>...</td>\n      <td>9581690.0</td>\n      <td>1916338.0</td>\n      <td>263476.409988</td>\n      <td>17792920.0</td>\n      <td>1779292.0</td>\n      <td>2.413624e+05</td>\n      <td>35834790.0</td>\n      <td>1791739.5</td>\n      <td>2.772676e+05</td>\n      <td>466.886667</td>\n    </tr>\n    <tr>\n      <th>05.01.19</th>\n      <td>380.0</td>\n      <td>-250.0</td>\n      <td>-130.0</td>\n      <td>46.0</td>\n      <td>9.0</td>\n      <td>-98.0</td>\n      <td>-20.0</td>\n      <td>-35.0</td>\n      <td>-33.0</td>\n      <td>0.0</td>\n      <td>...</td>\n      <td>9402060.0</td>\n      <td>1880412.0</td>\n      <td>256804.339663</td>\n      <td>18154600.0</td>\n      <td>1815460.0</td>\n      <td>2.184637e+05</td>\n      <td>35956460.0</td>\n      <td>1797823.0</td>\n      <td>2.770733e+05</td>\n      <td>461.333333</td>\n    </tr>\n  </tbody>\n</table>\n<p>4824 rows × 141 columns</p>\n</div>"
     },
     "execution_count": 3,
     "metadata": {},
     "output_type": "execute_result"
    }
   ],
   "execution_count": 3
  },
  {
   "metadata": {
    "ExecuteTime": {
     "end_time": "2024-08-23T07:26:21.873531Z",
     "start_time": "2024-08-23T07:26:21.859920Z"
    }
   },
   "cell_type": "code",
   "source": [
    "train = merged.sample(frac=0.95, random_state=786)\n",
    "test = merged.drop(train.index)\n",
    "# train.reset_index(inplace=True, drop=False)\n",
    "# test.reset_index(inplace=True, drop=False)\n",
    "\n",
    "# train.sort_index(ascending=False)\n",
    "test.sort_index(ascending=False)"
   ],
   "id": "9faf7f4305e8ea71",
   "outputs": [
    {
     "data": {
      "text/plain": "          PERSONAL  FOREIGNER  COMPANY  FINANCE  INSURANCE  TOOSIN  BANK  \\\nDATEON                                                                     \n24.07.18      54.0      823.0   -744.0   1004.0     -196.0 -1274.0  -8.0   \n24.07.10    1704.0     -514.0   -992.0   -647.0        3.0   -96.0   1.0   \n24.07.08    -367.0      792.0   -490.0   -591.0        1.0    56.0 -10.0   \n24.07.01   -1109.0      104.0   1167.0    960.0       43.0   241.0 -12.0   \n24.05.02     968.0     -689.0   -152.0    159.0      -76.0  -119.0  -3.0   \n...            ...        ...      ...      ...        ...     ...   ...   \n05.12.26     -35.0       26.0      9.0     30.0       19.0   -76.0  -8.0   \n05.10.04    -615.0      449.0    165.0     61.0       44.0    61.0  30.0   \n05.06.14     106.0       37.0   -143.0    -34.0       18.0   -12.0 -34.0   \n05.03.29      -2.0      -32.0     34.0     42.0       23.0    22.0 -23.0   \n05.02.22      92.0       61.0   -153.0     -6.0       -8.0    -2.0 -13.0   \n\n          ETC_FIN  GOV_FUND  ETC_FUND  ...  VOLUME_AMT_SUM_D5  \\\nDATEON                                 ...                      \n24.07.18    -23.0    -246.0    -133.0  ...         34711100.0   \n24.07.10    -38.0    -217.0    -198.0  ...         36871090.0   \n24.07.08    -16.0      70.0      65.0  ...         38940990.0   \n24.07.01    -37.0     -28.0    -162.0  ...         44556360.0   \n24.05.02    -50.0     -62.0    -127.0  ...         44602280.0   \n...           ...       ...       ...  ...                ...   \n05.12.26    -17.0      60.0       0.0  ...         12611450.0   \n05.10.04    -12.0     -19.0       0.0  ...         11205500.0   \n05.06.14     12.0     -93.0       0.0  ...          8856400.0   \n05.03.29     -3.0     -27.0       0.0  ...          4996109.0   \n05.02.22    -10.0    -114.0       0.0  ...          8109550.0   \n\n          VOLUME_AMT_AVG_D5  VOLUME_AMT_STD_D5  VOLUME_AMT_SUM_D10  \\\nDATEON                                                               \n24.07.18          6942220.0      345526.059509          64778020.0   \n24.07.10          7374218.0      606938.269695          71265780.0   \n24.07.08          7788198.0      899053.760695          74385170.0   \n24.07.01          8911272.0      704341.580961          83497350.0   \n24.05.02          8920456.0      782219.419300          90257620.0   \n...                     ...                ...                 ...   \n05.12.26          2522290.0      515067.994686          29085660.0   \n05.10.04          2241100.0      115846.456571          22959930.0   \n05.06.14          1771280.0      112836.743129          17173580.0   \n05.03.29           999221.8      107918.706876          10020813.0   \n05.02.22          1621910.0      157998.524993          14813670.0   \n\n          VOLUME_AMT_AVG_D10  VOLUME_AMT_STD_D10  VOLUME_AMT_SUM_D20  \\\nDATEON                                                                 \n24.07.18           6477802.0       646478.406768         140874170.0   \n24.07.10           7126578.0       519724.602603         139941250.0   \n24.07.08           7438517.0       748437.918914         141274220.0   \n24.07.01           8349735.0       964412.137168         151153510.0   \n24.05.02           9025762.0       687841.778622         185445310.0   \n...                      ...                 ...                 ...   \n05.12.26           2908566.0       567778.601064          56031570.0   \n05.10.04           2295993.0       151976.140894          43069420.0   \n05.06.14           1717358.0       169712.937751          34780600.0   \n05.03.29           1002081.3       106012.060903          19411932.0   \n05.02.22           1481367.0       198556.755113          27543070.0   \n\n          VOLUME_AMT_AVG_D20  VOLUME_AMT_STD_D20  PRED_OUT_D3  \nDATEON                                                         \n24.07.18           7043708.5        8.905861e+05   816.933333  \n24.07.10           6997062.5        8.932498e+05   851.890000  \n24.07.08           7063711.0        9.654545e+05   857.130000  \n24.07.01           7557675.5        1.167059e+06   835.606667  \n24.05.02           9272265.5        7.961814e+05   869.756667  \n...                      ...                 ...          ...  \n05.12.26           2801578.5        4.530046e+05   693.760000  \n05.10.04           2153471.0        2.019068e+05   590.380000  \n05.06.14           1739030.0        1.490829e+05   489.236667  \n05.03.29            970596.6        1.020488e+05   457.436667  \n05.02.22           1377153.5        1.878246e+05   494.253333  \n\n[241 rows x 141 columns]",
      "text/html": "<div>\n<style scoped>\n    .dataframe tbody tr th:only-of-type {\n        vertical-align: middle;\n    }\n\n    .dataframe tbody tr th {\n        vertical-align: top;\n    }\n\n    .dataframe thead th {\n        text-align: right;\n    }\n</style>\n<table border=\"1\" class=\"dataframe\">\n  <thead>\n    <tr style=\"text-align: right;\">\n      <th></th>\n      <th>PERSONAL</th>\n      <th>FOREIGNER</th>\n      <th>COMPANY</th>\n      <th>FINANCE</th>\n      <th>INSURANCE</th>\n      <th>TOOSIN</th>\n      <th>BANK</th>\n      <th>ETC_FIN</th>\n      <th>GOV_FUND</th>\n      <th>ETC_FUND</th>\n      <th>...</th>\n      <th>VOLUME_AMT_SUM_D5</th>\n      <th>VOLUME_AMT_AVG_D5</th>\n      <th>VOLUME_AMT_STD_D5</th>\n      <th>VOLUME_AMT_SUM_D10</th>\n      <th>VOLUME_AMT_AVG_D10</th>\n      <th>VOLUME_AMT_STD_D10</th>\n      <th>VOLUME_AMT_SUM_D20</th>\n      <th>VOLUME_AMT_AVG_D20</th>\n      <th>VOLUME_AMT_STD_D20</th>\n      <th>PRED_OUT_D3</th>\n    </tr>\n    <tr>\n      <th>DATEON</th>\n      <th></th>\n      <th></th>\n      <th></th>\n      <th></th>\n      <th></th>\n      <th></th>\n      <th></th>\n      <th></th>\n      <th></th>\n      <th></th>\n      <th></th>\n      <th></th>\n      <th></th>\n      <th></th>\n      <th></th>\n      <th></th>\n      <th></th>\n      <th></th>\n      <th></th>\n      <th></th>\n      <th></th>\n    </tr>\n  </thead>\n  <tbody>\n    <tr>\n      <th>24.07.18</th>\n      <td>54.0</td>\n      <td>823.0</td>\n      <td>-744.0</td>\n      <td>1004.0</td>\n      <td>-196.0</td>\n      <td>-1274.0</td>\n      <td>-8.0</td>\n      <td>-23.0</td>\n      <td>-246.0</td>\n      <td>-133.0</td>\n      <td>...</td>\n      <td>34711100.0</td>\n      <td>6942220.0</td>\n      <td>345526.059509</td>\n      <td>64778020.0</td>\n      <td>6477802.0</td>\n      <td>646478.406768</td>\n      <td>140874170.0</td>\n      <td>7043708.5</td>\n      <td>8.905861e+05</td>\n      <td>816.933333</td>\n    </tr>\n    <tr>\n      <th>24.07.10</th>\n      <td>1704.0</td>\n      <td>-514.0</td>\n      <td>-992.0</td>\n      <td>-647.0</td>\n      <td>3.0</td>\n      <td>-96.0</td>\n      <td>1.0</td>\n      <td>-38.0</td>\n      <td>-217.0</td>\n      <td>-198.0</td>\n      <td>...</td>\n      <td>36871090.0</td>\n      <td>7374218.0</td>\n      <td>606938.269695</td>\n      <td>71265780.0</td>\n      <td>7126578.0</td>\n      <td>519724.602603</td>\n      <td>139941250.0</td>\n      <td>6997062.5</td>\n      <td>8.932498e+05</td>\n      <td>851.890000</td>\n    </tr>\n    <tr>\n      <th>24.07.08</th>\n      <td>-367.0</td>\n      <td>792.0</td>\n      <td>-490.0</td>\n      <td>-591.0</td>\n      <td>1.0</td>\n      <td>56.0</td>\n      <td>-10.0</td>\n      <td>-16.0</td>\n      <td>70.0</td>\n      <td>65.0</td>\n      <td>...</td>\n      <td>38940990.0</td>\n      <td>7788198.0</td>\n      <td>899053.760695</td>\n      <td>74385170.0</td>\n      <td>7438517.0</td>\n      <td>748437.918914</td>\n      <td>141274220.0</td>\n      <td>7063711.0</td>\n      <td>9.654545e+05</td>\n      <td>857.130000</td>\n    </tr>\n    <tr>\n      <th>24.07.01</th>\n      <td>-1109.0</td>\n      <td>104.0</td>\n      <td>1167.0</td>\n      <td>960.0</td>\n      <td>43.0</td>\n      <td>241.0</td>\n      <td>-12.0</td>\n      <td>-37.0</td>\n      <td>-28.0</td>\n      <td>-162.0</td>\n      <td>...</td>\n      <td>44556360.0</td>\n      <td>8911272.0</td>\n      <td>704341.580961</td>\n      <td>83497350.0</td>\n      <td>8349735.0</td>\n      <td>964412.137168</td>\n      <td>151153510.0</td>\n      <td>7557675.5</td>\n      <td>1.167059e+06</td>\n      <td>835.606667</td>\n    </tr>\n    <tr>\n      <th>24.05.02</th>\n      <td>968.0</td>\n      <td>-689.0</td>\n      <td>-152.0</td>\n      <td>159.0</td>\n      <td>-76.0</td>\n      <td>-119.0</td>\n      <td>-3.0</td>\n      <td>-50.0</td>\n      <td>-62.0</td>\n      <td>-127.0</td>\n      <td>...</td>\n      <td>44602280.0</td>\n      <td>8920456.0</td>\n      <td>782219.419300</td>\n      <td>90257620.0</td>\n      <td>9025762.0</td>\n      <td>687841.778622</td>\n      <td>185445310.0</td>\n      <td>9272265.5</td>\n      <td>7.961814e+05</td>\n      <td>869.756667</td>\n    </tr>\n    <tr>\n      <th>...</th>\n      <td>...</td>\n      <td>...</td>\n      <td>...</td>\n      <td>...</td>\n      <td>...</td>\n      <td>...</td>\n      <td>...</td>\n      <td>...</td>\n      <td>...</td>\n      <td>...</td>\n      <td>...</td>\n      <td>...</td>\n      <td>...</td>\n      <td>...</td>\n      <td>...</td>\n      <td>...</td>\n      <td>...</td>\n      <td>...</td>\n      <td>...</td>\n      <td>...</td>\n      <td>...</td>\n    </tr>\n    <tr>\n      <th>05.12.26</th>\n      <td>-35.0</td>\n      <td>26.0</td>\n      <td>9.0</td>\n      <td>30.0</td>\n      <td>19.0</td>\n      <td>-76.0</td>\n      <td>-8.0</td>\n      <td>-17.0</td>\n      <td>60.0</td>\n      <td>0.0</td>\n      <td>...</td>\n      <td>12611450.0</td>\n      <td>2522290.0</td>\n      <td>515067.994686</td>\n      <td>29085660.0</td>\n      <td>2908566.0</td>\n      <td>567778.601064</td>\n      <td>56031570.0</td>\n      <td>2801578.5</td>\n      <td>4.530046e+05</td>\n      <td>693.760000</td>\n    </tr>\n    <tr>\n      <th>05.10.04</th>\n      <td>-615.0</td>\n      <td>449.0</td>\n      <td>165.0</td>\n      <td>61.0</td>\n      <td>44.0</td>\n      <td>61.0</td>\n      <td>30.0</td>\n      <td>-12.0</td>\n      <td>-19.0</td>\n      <td>0.0</td>\n      <td>...</td>\n      <td>11205500.0</td>\n      <td>2241100.0</td>\n      <td>115846.456571</td>\n      <td>22959930.0</td>\n      <td>2295993.0</td>\n      <td>151976.140894</td>\n      <td>43069420.0</td>\n      <td>2153471.0</td>\n      <td>2.019068e+05</td>\n      <td>590.380000</td>\n    </tr>\n    <tr>\n      <th>05.06.14</th>\n      <td>106.0</td>\n      <td>37.0</td>\n      <td>-143.0</td>\n      <td>-34.0</td>\n      <td>18.0</td>\n      <td>-12.0</td>\n      <td>-34.0</td>\n      <td>12.0</td>\n      <td>-93.0</td>\n      <td>0.0</td>\n      <td>...</td>\n      <td>8856400.0</td>\n      <td>1771280.0</td>\n      <td>112836.743129</td>\n      <td>17173580.0</td>\n      <td>1717358.0</td>\n      <td>169712.937751</td>\n      <td>34780600.0</td>\n      <td>1739030.0</td>\n      <td>1.490829e+05</td>\n      <td>489.236667</td>\n    </tr>\n    <tr>\n      <th>05.03.29</th>\n      <td>-2.0</td>\n      <td>-32.0</td>\n      <td>34.0</td>\n      <td>42.0</td>\n      <td>23.0</td>\n      <td>22.0</td>\n      <td>-23.0</td>\n      <td>-3.0</td>\n      <td>-27.0</td>\n      <td>0.0</td>\n      <td>...</td>\n      <td>4996109.0</td>\n      <td>999221.8</td>\n      <td>107918.706876</td>\n      <td>10020813.0</td>\n      <td>1002081.3</td>\n      <td>106012.060903</td>\n      <td>19411932.0</td>\n      <td>970596.6</td>\n      <td>1.020488e+05</td>\n      <td>457.436667</td>\n    </tr>\n    <tr>\n      <th>05.02.22</th>\n      <td>92.0</td>\n      <td>61.0</td>\n      <td>-153.0</td>\n      <td>-6.0</td>\n      <td>-8.0</td>\n      <td>-2.0</td>\n      <td>-13.0</td>\n      <td>-10.0</td>\n      <td>-114.0</td>\n      <td>0.0</td>\n      <td>...</td>\n      <td>8109550.0</td>\n      <td>1621910.0</td>\n      <td>157998.524993</td>\n      <td>14813670.0</td>\n      <td>1481367.0</td>\n      <td>198556.755113</td>\n      <td>27543070.0</td>\n      <td>1377153.5</td>\n      <td>1.878246e+05</td>\n      <td>494.253333</td>\n    </tr>\n  </tbody>\n</table>\n<p>241 rows × 141 columns</p>\n</div>"
     },
     "execution_count": 4,
     "metadata": {},
     "output_type": "execute_result"
    }
   ],
   "execution_count": 4
  },
  {
   "metadata": {
    "ExecuteTime": {
     "end_time": "2024-08-23T07:26:24.840934Z",
     "start_time": "2024-08-23T07:26:22.948418Z"
    }
   },
   "cell_type": "code",
   "source": [
    "from pycaret.regression import *\n",
    "\n",
    "s = setup(data = train, target='PRED_OUT_D3', session_id=123, normalize=True, normalize_method='minmax')"
   ],
   "id": "258285e77733a867",
   "outputs": [
    {
     "ename": "ImportError",
     "evalue": "cannot import name 'interp' from 'scipy' (/Users/younggonkim/.conda/envs/myFirstCrawl/lib/python3.9/site-packages/scipy/__init__.py)",
     "output_type": "error",
     "traceback": [
      "\u001B[0;31m---------------------------------------------------------------------------\u001B[0m",
      "\u001B[0;31mImportError\u001B[0m                               Traceback (most recent call last)",
      "Cell \u001B[0;32mIn[5], line 1\u001B[0m\n\u001B[0;32m----> 1\u001B[0m \u001B[38;5;28;01mfrom\u001B[39;00m \u001B[38;5;21;01mpycaret\u001B[39;00m\u001B[38;5;21;01m.\u001B[39;00m\u001B[38;5;21;01mregression\u001B[39;00m \u001B[38;5;28;01mimport\u001B[39;00m \u001B[38;5;241m*\u001B[39m\n\u001B[1;32m      3\u001B[0m s \u001B[38;5;241m=\u001B[39m setup(data \u001B[38;5;241m=\u001B[39m train, target\u001B[38;5;241m=\u001B[39m\u001B[38;5;124m'\u001B[39m\u001B[38;5;124mPRED_OUT_D3\u001B[39m\u001B[38;5;124m'\u001B[39m, session_id\u001B[38;5;241m=\u001B[39m\u001B[38;5;241m123\u001B[39m, normalize\u001B[38;5;241m=\u001B[39m\u001B[38;5;28;01mTrue\u001B[39;00m, normalize_method\u001B[38;5;241m=\u001B[39m\u001B[38;5;124m'\u001B[39m\u001B[38;5;124mminmax\u001B[39m\u001B[38;5;124m'\u001B[39m)\n",
      "File \u001B[0;32m~/.conda/envs/myFirstCrawl/lib/python3.9/site-packages/pycaret/regression/__init__.py:1\u001B[0m\n\u001B[0;32m----> 1\u001B[0m \u001B[38;5;28;01mfrom\u001B[39;00m \u001B[38;5;21;01mpycaret\u001B[39;00m\u001B[38;5;21;01m.\u001B[39;00m\u001B[38;5;21;01mregression\u001B[39;00m\u001B[38;5;21;01m.\u001B[39;00m\u001B[38;5;21;01mfunctional\u001B[39;00m \u001B[38;5;28;01mimport\u001B[39;00m (\n\u001B[1;32m      2\u001B[0m     add_metric,\n\u001B[1;32m      3\u001B[0m     automl,\n\u001B[1;32m      4\u001B[0m     blend_models,\n\u001B[1;32m      5\u001B[0m     check_drift,\n\u001B[1;32m      6\u001B[0m     check_fairness,\n\u001B[1;32m      7\u001B[0m     compare_models,\n\u001B[1;32m      8\u001B[0m     convert_model,\n\u001B[1;32m      9\u001B[0m     create_api,\n\u001B[1;32m     10\u001B[0m     create_app,\n\u001B[1;32m     11\u001B[0m     create_docker,\n\u001B[1;32m     12\u001B[0m     create_model,\n\u001B[1;32m     13\u001B[0m     dashboard,\n\u001B[1;32m     14\u001B[0m     deploy_model,\n\u001B[1;32m     15\u001B[0m     ensemble_model,\n\u001B[1;32m     16\u001B[0m     evaluate_model,\n\u001B[1;32m     17\u001B[0m     finalize_model,\n\u001B[1;32m     18\u001B[0m     get_allowed_engines,\n\u001B[1;32m     19\u001B[0m     get_config,\n\u001B[1;32m     20\u001B[0m     get_current_experiment,\n\u001B[1;32m     21\u001B[0m     get_engine,\n\u001B[1;32m     22\u001B[0m     get_leaderboard,\n\u001B[1;32m     23\u001B[0m     get_logs,\n\u001B[1;32m     24\u001B[0m     get_metrics,\n\u001B[1;32m     25\u001B[0m     interpret_model,\n\u001B[1;32m     26\u001B[0m     load_experiment,\n\u001B[1;32m     27\u001B[0m     load_model,\n\u001B[1;32m     28\u001B[0m     models,\n\u001B[1;32m     29\u001B[0m     plot_model,\n\u001B[1;32m     30\u001B[0m     predict_model,\n\u001B[1;32m     31\u001B[0m     pull,\n\u001B[1;32m     32\u001B[0m     remove_metric,\n\u001B[1;32m     33\u001B[0m     save_experiment,\n\u001B[1;32m     34\u001B[0m     save_model,\n\u001B[1;32m     35\u001B[0m     set_config,\n\u001B[1;32m     36\u001B[0m     set_current_experiment,\n\u001B[1;32m     37\u001B[0m     setup,\n\u001B[1;32m     38\u001B[0m     stack_models,\n\u001B[1;32m     39\u001B[0m     tune_model,\n\u001B[1;32m     40\u001B[0m )\n\u001B[1;32m     41\u001B[0m \u001B[38;5;28;01mfrom\u001B[39;00m \u001B[38;5;21;01mpycaret\u001B[39;00m\u001B[38;5;21;01m.\u001B[39;00m\u001B[38;5;21;01mregression\u001B[39;00m\u001B[38;5;21;01m.\u001B[39;00m\u001B[38;5;21;01moop\u001B[39;00m \u001B[38;5;28;01mimport\u001B[39;00m RegressionExperiment\n\u001B[1;32m     43\u001B[0m __all__ \u001B[38;5;241m=\u001B[39m [\n\u001B[1;32m     44\u001B[0m     \u001B[38;5;124m\"\u001B[39m\u001B[38;5;124mRegressionExperiment\u001B[39m\u001B[38;5;124m\"\u001B[39m,\n\u001B[1;32m     45\u001B[0m     \u001B[38;5;124m\"\u001B[39m\u001B[38;5;124msetup\u001B[39m\u001B[38;5;124m\"\u001B[39m,\n\u001B[0;32m   (...)\u001B[0m\n\u001B[1;32m     82\u001B[0m     \u001B[38;5;124m\"\u001B[39m\u001B[38;5;124mcheck_drift\u001B[39m\u001B[38;5;124m\"\u001B[39m,\n\u001B[1;32m     83\u001B[0m ]\n",
      "File \u001B[0;32m~/.conda/envs/myFirstCrawl/lib/python3.9/site-packages/pycaret/regression/functional.py:10\u001B[0m\n\u001B[1;32m      8\u001B[0m \u001B[38;5;28;01mfrom\u001B[39;00m \u001B[38;5;21;01mpycaret\u001B[39;00m\u001B[38;5;21;01m.\u001B[39;00m\u001B[38;5;21;01minternal\u001B[39;00m\u001B[38;5;21;01m.\u001B[39;00m\u001B[38;5;21;01mparallel\u001B[39;00m\u001B[38;5;21;01m.\u001B[39;00m\u001B[38;5;21;01mparallel_backend\u001B[39;00m \u001B[38;5;28;01mimport\u001B[39;00m ParallelBackend\n\u001B[1;32m      9\u001B[0m \u001B[38;5;28;01mfrom\u001B[39;00m \u001B[38;5;21;01mpycaret\u001B[39;00m\u001B[38;5;21;01m.\u001B[39;00m\u001B[38;5;21;01mloggers\u001B[39;00m\u001B[38;5;21;01m.\u001B[39;00m\u001B[38;5;21;01mbase_logger\u001B[39;00m \u001B[38;5;28;01mimport\u001B[39;00m BaseLogger\n\u001B[0;32m---> 10\u001B[0m \u001B[38;5;28;01mfrom\u001B[39;00m \u001B[38;5;21;01mpycaret\u001B[39;00m\u001B[38;5;21;01m.\u001B[39;00m\u001B[38;5;21;01mregression\u001B[39;00m\u001B[38;5;21;01m.\u001B[39;00m\u001B[38;5;21;01moop\u001B[39;00m \u001B[38;5;28;01mimport\u001B[39;00m RegressionExperiment\n\u001B[1;32m     11\u001B[0m \u001B[38;5;28;01mfrom\u001B[39;00m \u001B[38;5;21;01mpycaret\u001B[39;00m\u001B[38;5;21;01m.\u001B[39;00m\u001B[38;5;21;01mutils\u001B[39;00m\u001B[38;5;21;01m.\u001B[39;00m\u001B[38;5;21;01mconstants\u001B[39;00m \u001B[38;5;28;01mimport\u001B[39;00m DATAFRAME_LIKE, SEQUENCE_LIKE, TARGET_LIKE\n\u001B[1;32m     12\u001B[0m \u001B[38;5;28;01mfrom\u001B[39;00m \u001B[38;5;21;01mpycaret\u001B[39;00m\u001B[38;5;21;01m.\u001B[39;00m\u001B[38;5;21;01mutils\u001B[39;00m\u001B[38;5;21;01m.\u001B[39;00m\u001B[38;5;21;01mgeneric\u001B[39;00m \u001B[38;5;28;01mimport\u001B[39;00m check_if_global_is_not_none\n",
      "File \u001B[0;32m~/.conda/envs/myFirstCrawl/lib/python3.9/site-packages/pycaret/regression/oop.py:23\u001B[0m\n\u001B[1;32m     21\u001B[0m \u001B[38;5;28;01mfrom\u001B[39;00m \u001B[38;5;21;01mpycaret\u001B[39;00m\u001B[38;5;21;01m.\u001B[39;00m\u001B[38;5;21;01minternal\u001B[39;00m\u001B[38;5;21;01m.\u001B[39;00m\u001B[38;5;21;01mpipeline\u001B[39;00m \u001B[38;5;28;01mimport\u001B[39;00m Pipeline \u001B[38;5;28;01mas\u001B[39;00m InternalPipeline\n\u001B[1;32m     22\u001B[0m \u001B[38;5;28;01mfrom\u001B[39;00m \u001B[38;5;21;01mpycaret\u001B[39;00m\u001B[38;5;21;01m.\u001B[39;00m\u001B[38;5;21;01minternal\u001B[39;00m\u001B[38;5;21;01m.\u001B[39;00m\u001B[38;5;21;01mpreprocess\u001B[39;00m\u001B[38;5;21;01m.\u001B[39;00m\u001B[38;5;21;01mpreprocessor\u001B[39;00m \u001B[38;5;28;01mimport\u001B[39;00m Preprocessor\n\u001B[0;32m---> 23\u001B[0m \u001B[38;5;28;01mfrom\u001B[39;00m \u001B[38;5;21;01mpycaret\u001B[39;00m\u001B[38;5;21;01m.\u001B[39;00m\u001B[38;5;21;01minternal\u001B[39;00m\u001B[38;5;21;01m.\u001B[39;00m\u001B[38;5;21;01mpycaret_experiment\u001B[39;00m\u001B[38;5;21;01m.\u001B[39;00m\u001B[38;5;21;01mnon_ts_supervised_experiment\u001B[39;00m \u001B[38;5;28;01mimport\u001B[39;00m (\n\u001B[1;32m     24\u001B[0m     _NonTSSupervisedExperiment,\n\u001B[1;32m     25\u001B[0m )\n\u001B[1;32m     26\u001B[0m \u001B[38;5;28;01mfrom\u001B[39;00m \u001B[38;5;21;01mpycaret\u001B[39;00m\u001B[38;5;21;01m.\u001B[39;00m\u001B[38;5;21;01mloggers\u001B[39;00m\u001B[38;5;21;01m.\u001B[39;00m\u001B[38;5;21;01mbase_logger\u001B[39;00m \u001B[38;5;28;01mimport\u001B[39;00m BaseLogger\n\u001B[1;32m     27\u001B[0m \u001B[38;5;28;01mfrom\u001B[39;00m \u001B[38;5;21;01mpycaret\u001B[39;00m\u001B[38;5;21;01m.\u001B[39;00m\u001B[38;5;21;01mutils\u001B[39;00m\u001B[38;5;21;01m.\u001B[39;00m\u001B[38;5;21;01mconstants\u001B[39;00m \u001B[38;5;28;01mimport\u001B[39;00m DATAFRAME_LIKE, SEQUENCE_LIKE, TARGET_LIKE\n",
      "File \u001B[0;32m~/.conda/envs/myFirstCrawl/lib/python3.9/site-packages/pycaret/internal/pycaret_experiment/non_ts_supervised_experiment.py:3\u001B[0m\n\u001B[1;32m      1\u001B[0m \u001B[38;5;28;01mimport\u001B[39;00m \u001B[38;5;21;01mpandas\u001B[39;00m \u001B[38;5;28;01mas\u001B[39;00m \u001B[38;5;21;01mpd\u001B[39;00m\n\u001B[0;32m----> 3\u001B[0m \u001B[38;5;28;01mfrom\u001B[39;00m \u001B[38;5;21;01mpycaret\u001B[39;00m\u001B[38;5;21;01m.\u001B[39;00m\u001B[38;5;21;01minternal\u001B[39;00m\u001B[38;5;21;01m.\u001B[39;00m\u001B[38;5;21;01mpycaret_experiment\u001B[39;00m\u001B[38;5;21;01m.\u001B[39;00m\u001B[38;5;21;01msupervised_experiment\u001B[39;00m \u001B[38;5;28;01mimport\u001B[39;00m (\n\u001B[1;32m      4\u001B[0m     _SupervisedExperiment,\n\u001B[1;32m      5\u001B[0m )\n\u001B[1;32m      8\u001B[0m \u001B[38;5;28;01mclass\u001B[39;00m \u001B[38;5;21;01m_NonTSSupervisedExperiment\u001B[39;00m(_SupervisedExperiment):\n\u001B[1;32m      9\u001B[0m     \u001B[38;5;28;01mdef\u001B[39;00m \u001B[38;5;21m__init__\u001B[39m(\u001B[38;5;28mself\u001B[39m) \u001B[38;5;241m-\u001B[39m\u001B[38;5;241m>\u001B[39m \u001B[38;5;28;01mNone\u001B[39;00m:\n",
      "File \u001B[0;32m~/.conda/envs/myFirstCrawl/lib/python3.9/site-packages/pycaret/internal/pycaret_experiment/supervised_experiment.py:57\u001B[0m\n\u001B[1;32m     50\u001B[0m \u001B[38;5;28;01mfrom\u001B[39;00m \u001B[38;5;21;01mpycaret\u001B[39;00m\u001B[38;5;21;01m.\u001B[39;00m\u001B[38;5;21;01minternal\u001B[39;00m\u001B[38;5;21;01m.\u001B[39;00m\u001B[38;5;21;01mpatches\u001B[39;00m\u001B[38;5;21;01m.\u001B[39;00m\u001B[38;5;21;01msklearn\u001B[39;00m \u001B[38;5;28;01mimport\u001B[39;00m fit_and_score \u001B[38;5;28;01mas\u001B[39;00m fs\n\u001B[1;32m     51\u001B[0m \u001B[38;5;28;01mfrom\u001B[39;00m \u001B[38;5;21;01mpycaret\u001B[39;00m\u001B[38;5;21;01m.\u001B[39;00m\u001B[38;5;21;01minternal\u001B[39;00m\u001B[38;5;21;01m.\u001B[39;00m\u001B[38;5;21;01mpipeline\u001B[39;00m \u001B[38;5;28;01mimport\u001B[39;00m (\n\u001B[1;32m     52\u001B[0m     Pipeline,\n\u001B[1;32m     53\u001B[0m     estimator_pipeline,\n\u001B[1;32m     54\u001B[0m     get_pipeline_estimator_label,\n\u001B[1;32m     55\u001B[0m     get_pipeline_fit_kwargs,\n\u001B[1;32m     56\u001B[0m )\n\u001B[0;32m---> 57\u001B[0m \u001B[38;5;28;01mfrom\u001B[39;00m \u001B[38;5;21;01mpycaret\u001B[39;00m\u001B[38;5;21;01m.\u001B[39;00m\u001B[38;5;21;01minternal\u001B[39;00m\u001B[38;5;21;01m.\u001B[39;00m\u001B[38;5;21;01mpycaret_experiment\u001B[39;00m\u001B[38;5;21;01m.\u001B[39;00m\u001B[38;5;21;01mtabular_experiment\u001B[39;00m \u001B[38;5;28;01mimport\u001B[39;00m _TabularExperiment\n\u001B[1;32m     58\u001B[0m \u001B[38;5;28;01mfrom\u001B[39;00m \u001B[38;5;21;01mpycaret\u001B[39;00m\u001B[38;5;21;01m.\u001B[39;00m\u001B[38;5;21;01minternal\u001B[39;00m\u001B[38;5;21;01m.\u001B[39;00m\u001B[38;5;21;01mtunable\u001B[39;00m \u001B[38;5;28;01mimport\u001B[39;00m TunableMixin\n\u001B[1;32m     59\u001B[0m \u001B[38;5;28;01mfrom\u001B[39;00m \u001B[38;5;21;01mpycaret\u001B[39;00m\u001B[38;5;21;01m.\u001B[39;00m\u001B[38;5;21;01minternal\u001B[39;00m\u001B[38;5;21;01m.\u001B[39;00m\u001B[38;5;21;01mvalidation\u001B[39;00m \u001B[38;5;28;01mimport\u001B[39;00m is_fitted, is_sklearn_cv_generator\n",
      "File \u001B[0;32m~/.conda/envs/myFirstCrawl/lib/python3.9/site-packages/pycaret/internal/pycaret_experiment/tabular_experiment.py:14\u001B[0m\n\u001B[1;32m     12\u001B[0m \u001B[38;5;28;01mimport\u001B[39;00m \u001B[38;5;21;01mpandas\u001B[39;00m \u001B[38;5;28;01mas\u001B[39;00m \u001B[38;5;21;01mpd\u001B[39;00m\n\u001B[1;32m     13\u001B[0m \u001B[38;5;28;01mimport\u001B[39;00m \u001B[38;5;21;01mplotly\u001B[39;00m\u001B[38;5;21;01m.\u001B[39;00m\u001B[38;5;21;01mexpress\u001B[39;00m \u001B[38;5;28;01mas\u001B[39;00m \u001B[38;5;21;01mpx\u001B[39;00m  \u001B[38;5;66;03m# type: ignore\u001B[39;00m\n\u001B[0;32m---> 14\u001B[0m \u001B[38;5;28;01mimport\u001B[39;00m \u001B[38;5;21;01mscikitplot\u001B[39;00m \u001B[38;5;28;01mas\u001B[39;00m \u001B[38;5;21;01mskplt\u001B[39;00m  \u001B[38;5;66;03m# type: ignore\u001B[39;00m\n\u001B[1;32m     15\u001B[0m \u001B[38;5;28;01mfrom\u001B[39;00m \u001B[38;5;21;01mIPython\u001B[39;00m\u001B[38;5;21;01m.\u001B[39;00m\u001B[38;5;21;01mdisplay\u001B[39;00m \u001B[38;5;28;01mimport\u001B[39;00m display \u001B[38;5;28;01mas\u001B[39;00m ipython_display\n\u001B[1;32m     16\u001B[0m \u001B[38;5;28;01mfrom\u001B[39;00m \u001B[38;5;21;01mjoblib\u001B[39;00m\u001B[38;5;21;01m.\u001B[39;00m\u001B[38;5;21;01mmemory\u001B[39;00m \u001B[38;5;28;01mimport\u001B[39;00m Memory\n",
      "File \u001B[0;32m~/.conda/envs/myFirstCrawl/lib/python3.9/site-packages/scikitplot/__init__.py:2\u001B[0m\n\u001B[1;32m      1\u001B[0m \u001B[38;5;28;01mfrom\u001B[39;00m \u001B[38;5;21;01m__future__\u001B[39;00m \u001B[38;5;28;01mimport\u001B[39;00m absolute_import, division, print_function, unicode_literals\n\u001B[0;32m----> 2\u001B[0m \u001B[38;5;28;01mfrom\u001B[39;00m \u001B[38;5;21;01m.\u001B[39;00m \u001B[38;5;28;01mimport\u001B[39;00m metrics, cluster, decomposition, estimators\n\u001B[1;32m      3\u001B[0m __version__ \u001B[38;5;241m=\u001B[39m \u001B[38;5;124m'\u001B[39m\u001B[38;5;124m0.3.7\u001B[39m\u001B[38;5;124m'\u001B[39m\n\u001B[1;32m      6\u001B[0m \u001B[38;5;28;01mfrom\u001B[39;00m \u001B[38;5;21;01mscikitplot\u001B[39;00m\u001B[38;5;21;01m.\u001B[39;00m\u001B[38;5;21;01mclassifiers\u001B[39;00m \u001B[38;5;28;01mimport\u001B[39;00m classifier_factory\n",
      "File \u001B[0;32m~/.conda/envs/myFirstCrawl/lib/python3.9/site-packages/scikitplot/metrics.py:27\u001B[0m\n\u001B[1;32m     24\u001B[0m \u001B[38;5;28;01mfrom\u001B[39;00m \u001B[38;5;21;01msklearn\u001B[39;00m\u001B[38;5;21;01m.\u001B[39;00m\u001B[38;5;21;01mcalibration\u001B[39;00m \u001B[38;5;28;01mimport\u001B[39;00m calibration_curve\n\u001B[1;32m     25\u001B[0m \u001B[38;5;28;01mfrom\u001B[39;00m \u001B[38;5;21;01msklearn\u001B[39;00m\u001B[38;5;21;01m.\u001B[39;00m\u001B[38;5;21;01mutils\u001B[39;00m \u001B[38;5;28;01mimport\u001B[39;00m deprecated\n\u001B[0;32m---> 27\u001B[0m \u001B[38;5;28;01mfrom\u001B[39;00m \u001B[38;5;21;01mscipy\u001B[39;00m \u001B[38;5;28;01mimport\u001B[39;00m interp\n\u001B[1;32m     29\u001B[0m \u001B[38;5;28;01mfrom\u001B[39;00m \u001B[38;5;21;01mscikitplot\u001B[39;00m\u001B[38;5;21;01m.\u001B[39;00m\u001B[38;5;21;01mhelpers\u001B[39;00m \u001B[38;5;28;01mimport\u001B[39;00m binary_ks_curve, validate_labels\n\u001B[1;32m     30\u001B[0m \u001B[38;5;28;01mfrom\u001B[39;00m \u001B[38;5;21;01mscikitplot\u001B[39;00m\u001B[38;5;21;01m.\u001B[39;00m\u001B[38;5;21;01mhelpers\u001B[39;00m \u001B[38;5;28;01mimport\u001B[39;00m cumulative_gain_curve\n",
      "\u001B[0;31mImportError\u001B[0m: cannot import name 'interp' from 'scipy' (/Users/younggonkim/.conda/envs/myFirstCrawl/lib/python3.9/site-packages/scipy/__init__.py)"
     ]
    }
   ],
   "execution_count": 5
  },
  {
   "metadata": {
    "ExecuteTime": {
     "end_time": "2024-08-23T07:02:35.218380Z",
     "start_time": "2024-08-23T07:02:35.207590Z"
    }
   },
   "cell_type": "code",
   "source": [
    "best = compare_models(include=['et', 'rf', 'lightgbm'])\n"
   ],
   "id": "a9876e7ff54097f3",
   "outputs": [
    {
     "ename": "NameError",
     "evalue": "name 'compare_models' is not defined",
     "output_type": "error",
     "traceback": [
      "\u001B[0;31m---------------------------------------------------------------------------\u001B[0m",
      "\u001B[0;31mNameError\u001B[0m                                 Traceback (most recent call last)",
      "Cell \u001B[0;32mIn[7], line 1\u001B[0m\n\u001B[0;32m----> 1\u001B[0m best \u001B[38;5;241m=\u001B[39m \u001B[43mcompare_models\u001B[49m(include\u001B[38;5;241m=\u001B[39m[\u001B[38;5;124m'\u001B[39m\u001B[38;5;124met\u001B[39m\u001B[38;5;124m'\u001B[39m, \u001B[38;5;124m'\u001B[39m\u001B[38;5;124mrf\u001B[39m\u001B[38;5;124m'\u001B[39m, \u001B[38;5;124m'\u001B[39m\u001B[38;5;124mlightgbm\u001B[39m\u001B[38;5;124m'\u001B[39m])\n",
      "\u001B[0;31mNameError\u001B[0m: name 'compare_models' is not defined"
     ]
    }
   ],
   "execution_count": 7
  },
  {
   "metadata": {
    "ExecuteTime": {
     "end_time": "2024-08-23T06:59:04.707889Z",
     "start_time": "2024-08-23T06:59:04.471755Z"
    }
   },
   "cell_type": "code",
   "outputs": [
    {
     "data": {
      "text/plain": "interactive(children=(ToggleButtons(description='Plot Type:', icons=('',), options=(('Pipeline Plot', 'pipelin…",
      "application/vnd.jupyter.widget-view+json": {
       "version_major": 2,
       "version_minor": 0,
       "model_id": "c68c8b9c416349c8b798e782c917c70c"
      }
     },
     "metadata": {},
     "output_type": "display_data"
    }
   ],
   "execution_count": 11,
   "source": [
    "evaluate_model(best)\n"
   ],
   "id": "d26bcf40f948ee86"
  },
  {
   "cell_type": "code",
   "outputs": [
    {
     "data": {
      "text/plain": "<pandas.io.formats.style.Styler at 0x15f700730>",
      "text/html": "<style type=\"text/css\">\n</style>\n<table id=\"T_4c3ee\">\n  <thead>\n    <tr>\n      <th class=\"blank level0\" >&nbsp;</th>\n      <th id=\"T_4c3ee_level0_col0\" class=\"col_heading level0 col0\" >Model</th>\n      <th id=\"T_4c3ee_level0_col1\" class=\"col_heading level0 col1\" >MAE</th>\n      <th id=\"T_4c3ee_level0_col2\" class=\"col_heading level0 col2\" >MSE</th>\n      <th id=\"T_4c3ee_level0_col3\" class=\"col_heading level0 col3\" >RMSE</th>\n      <th id=\"T_4c3ee_level0_col4\" class=\"col_heading level0 col4\" >R2</th>\n      <th id=\"T_4c3ee_level0_col5\" class=\"col_heading level0 col5\" >RMSLE</th>\n      <th id=\"T_4c3ee_level0_col6\" class=\"col_heading level0 col6\" >MAPE</th>\n    </tr>\n  </thead>\n  <tbody>\n    <tr>\n      <th id=\"T_4c3ee_level0_row0\" class=\"row_heading level0 row0\" >0</th>\n      <td id=\"T_4c3ee_row0_col0\" class=\"data row0 col0\" >Extra Trees Regressor</td>\n      <td id=\"T_4c3ee_row0_col1\" class=\"data row0 col1\" >2.6142</td>\n      <td id=\"T_4c3ee_row0_col2\" class=\"data row0 col2\" >16.1706</td>\n      <td id=\"T_4c3ee_row0_col3\" class=\"data row0 col3\" >4.0213</td>\n      <td id=\"T_4c3ee_row0_col4\" class=\"data row0 col4\" >0.9994</td>\n      <td id=\"T_4c3ee_row0_col5\" class=\"data row0 col5\" >0.0073</td>\n      <td id=\"T_4c3ee_row0_col6\" class=\"data row0 col6\" >0.0042</td>\n    </tr>\n  </tbody>\n</table>\n"
     },
     "metadata": {},
     "output_type": "display_data"
    }
   ],
   "source": [
    "pred_holdout = predict_model(best)\n"
   ],
   "metadata": {
    "collapsed": false,
    "ExecuteTime": {
     "end_time": "2024-08-23T06:59:15.539837Z",
     "start_time": "2024-08-23T06:59:15.367563Z"
    }
   },
   "id": "bb5d885b3c2f0b10",
   "execution_count": 12
  },
  {
   "cell_type": "code",
   "outputs": [
    {
     "ename": "ModuleNotFoundError",
     "evalue": "\n'shap' is a soft dependency and not included in the pycaret installation. Please run: `pip install shap` to install.\nAlternately, you can install this by running `pip install pycaret[analysis]`",
     "output_type": "error",
     "traceback": [
      "\u001B[0;31m---------------------------------------------------------------------------\u001B[0m",
      "\u001B[0;31mModuleNotFoundError\u001B[0m                       Traceback (most recent call last)",
      "Cell \u001B[0;32mIn[14], line 1\u001B[0m\n\u001B[0;32m----> 1\u001B[0m \u001B[43minterpret_model\u001B[49m\u001B[43m(\u001B[49m\u001B[43mbest\u001B[49m\u001B[43m)\u001B[49m\n",
      "File \u001B[0;32m~/.conda/envs/myFirstCrawl/lib/python3.9/site-packages/pycaret/utils/generic.py:964\u001B[0m, in \u001B[0;36mcheck_if_global_is_not_none.<locals>.decorator.<locals>.wrapper\u001B[0;34m(*args, **kwargs)\u001B[0m\n\u001B[1;32m    962\u001B[0m     \u001B[38;5;28;01mif\u001B[39;00m globals_d[name] \u001B[38;5;129;01mis\u001B[39;00m \u001B[38;5;28;01mNone\u001B[39;00m:\n\u001B[1;32m    963\u001B[0m         \u001B[38;5;28;01mraise\u001B[39;00m \u001B[38;5;167;01mValueError\u001B[39;00m(message)\n\u001B[0;32m--> 964\u001B[0m \u001B[38;5;28;01mreturn\u001B[39;00m \u001B[43mfunc\u001B[49m\u001B[43m(\u001B[49m\u001B[38;5;241;43m*\u001B[39;49m\u001B[43margs\u001B[49m\u001B[43m,\u001B[49m\u001B[43m \u001B[49m\u001B[38;5;241;43m*\u001B[39;49m\u001B[38;5;241;43m*\u001B[39;49m\u001B[43mkwargs\u001B[49m\u001B[43m)\u001B[49m\n",
      "File \u001B[0;32m~/.conda/envs/myFirstCrawl/lib/python3.9/site-packages/pycaret/regression/functional.py:1824\u001B[0m, in \u001B[0;36minterpret_model\u001B[0;34m(estimator, plot, feature, observation, use_train_data, X_new_sample, y_new_sample, save, **kwargs)\u001B[0m\n\u001B[1;32m   1727\u001B[0m \u001B[38;5;129m@check_if_global_is_not_none\u001B[39m(\u001B[38;5;28mglobals\u001B[39m(), _CURRENT_EXPERIMENT_DECORATOR_DICT)\n\u001B[1;32m   1728\u001B[0m \u001B[38;5;28;01mdef\u001B[39;00m \u001B[38;5;21minterpret_model\u001B[39m(\n\u001B[1;32m   1729\u001B[0m     estimator,\n\u001B[0;32m   (...)\u001B[0m\n\u001B[1;32m   1737\u001B[0m     \u001B[38;5;241m*\u001B[39m\u001B[38;5;241m*\u001B[39mkwargs,\n\u001B[1;32m   1738\u001B[0m ):\n\u001B[1;32m   1739\u001B[0m \u001B[38;5;250m    \u001B[39m\u001B[38;5;124;03m\"\"\"\u001B[39;00m\n\u001B[1;32m   1740\u001B[0m \u001B[38;5;124;03m    This function takes a trained model object and returns an interpretation plot\u001B[39;00m\n\u001B[1;32m   1741\u001B[0m \u001B[38;5;124;03m    based on the test / hold-out set.\u001B[39;00m\n\u001B[0;32m   (...)\u001B[0m\n\u001B[1;32m   1821\u001B[0m \n\u001B[1;32m   1822\u001B[0m \u001B[38;5;124;03m    \"\"\"\u001B[39;00m\n\u001B[0;32m-> 1824\u001B[0m     \u001B[38;5;28;01mreturn\u001B[39;00m \u001B[43m_CURRENT_EXPERIMENT\u001B[49m\u001B[38;5;241;43m.\u001B[39;49m\u001B[43minterpret_model\u001B[49m\u001B[43m(\u001B[49m\n\u001B[1;32m   1825\u001B[0m \u001B[43m        \u001B[49m\u001B[43mestimator\u001B[49m\u001B[38;5;241;43m=\u001B[39;49m\u001B[43mestimator\u001B[49m\u001B[43m,\u001B[49m\n\u001B[1;32m   1826\u001B[0m \u001B[43m        \u001B[49m\u001B[43mplot\u001B[49m\u001B[38;5;241;43m=\u001B[39;49m\u001B[43mplot\u001B[49m\u001B[43m,\u001B[49m\n\u001B[1;32m   1827\u001B[0m \u001B[43m        \u001B[49m\u001B[43mfeature\u001B[49m\u001B[38;5;241;43m=\u001B[39;49m\u001B[43mfeature\u001B[49m\u001B[43m,\u001B[49m\n\u001B[1;32m   1828\u001B[0m \u001B[43m        \u001B[49m\u001B[43mobservation\u001B[49m\u001B[38;5;241;43m=\u001B[39;49m\u001B[43mobservation\u001B[49m\u001B[43m,\u001B[49m\n\u001B[1;32m   1829\u001B[0m \u001B[43m        \u001B[49m\u001B[43muse_train_data\u001B[49m\u001B[38;5;241;43m=\u001B[39;49m\u001B[43muse_train_data\u001B[49m\u001B[43m,\u001B[49m\n\u001B[1;32m   1830\u001B[0m \u001B[43m        \u001B[49m\u001B[43mX_new_sample\u001B[49m\u001B[38;5;241;43m=\u001B[39;49m\u001B[43mX_new_sample\u001B[49m\u001B[43m,\u001B[49m\n\u001B[1;32m   1831\u001B[0m \u001B[43m        \u001B[49m\u001B[43my_new_sample\u001B[49m\u001B[38;5;241;43m=\u001B[39;49m\u001B[43my_new_sample\u001B[49m\u001B[43m,\u001B[49m\n\u001B[1;32m   1832\u001B[0m \u001B[43m        \u001B[49m\u001B[43msave\u001B[49m\u001B[38;5;241;43m=\u001B[39;49m\u001B[43msave\u001B[49m\u001B[43m,\u001B[49m\n\u001B[1;32m   1833\u001B[0m \u001B[43m        \u001B[49m\u001B[38;5;241;43m*\u001B[39;49m\u001B[38;5;241;43m*\u001B[39;49m\u001B[43mkwargs\u001B[49m\u001B[43m,\u001B[49m\n\u001B[1;32m   1834\u001B[0m \u001B[43m    \u001B[49m\u001B[43m)\u001B[49m\n",
      "File \u001B[0;32m~/.conda/envs/myFirstCrawl/lib/python3.9/site-packages/pycaret/regression/oop.py:2122\u001B[0m, in \u001B[0;36mRegressionExperiment.interpret_model\u001B[0;34m(self, estimator, plot, feature, observation, use_train_data, X_new_sample, y_new_sample, save, **kwargs)\u001B[0m\n\u001B[1;32m   2025\u001B[0m \u001B[38;5;28;01mdef\u001B[39;00m \u001B[38;5;21minterpret_model\u001B[39m(\n\u001B[1;32m   2026\u001B[0m     \u001B[38;5;28mself\u001B[39m,\n\u001B[1;32m   2027\u001B[0m     estimator,\n\u001B[0;32m   (...)\u001B[0m\n\u001B[1;32m   2035\u001B[0m     \u001B[38;5;241m*\u001B[39m\u001B[38;5;241m*\u001B[39mkwargs,\n\u001B[1;32m   2036\u001B[0m ):\n\u001B[1;32m   2037\u001B[0m \u001B[38;5;250m    \u001B[39m\u001B[38;5;124;03m\"\"\"\u001B[39;00m\n\u001B[1;32m   2038\u001B[0m \u001B[38;5;124;03m    This function takes a trained model object and returns an interpretation plot\u001B[39;00m\n\u001B[1;32m   2039\u001B[0m \u001B[38;5;124;03m    based on the test / hold-out set.\u001B[39;00m\n\u001B[0;32m   (...)\u001B[0m\n\u001B[1;32m   2119\u001B[0m \n\u001B[1;32m   2120\u001B[0m \u001B[38;5;124;03m    \"\"\"\u001B[39;00m\n\u001B[0;32m-> 2122\u001B[0m     \u001B[38;5;28;01mreturn\u001B[39;00m \u001B[38;5;28;43msuper\u001B[39;49m\u001B[43m(\u001B[49m\u001B[43m)\u001B[49m\u001B[38;5;241;43m.\u001B[39;49m\u001B[43minterpret_model\u001B[49m\u001B[43m(\u001B[49m\n\u001B[1;32m   2123\u001B[0m \u001B[43m        \u001B[49m\u001B[43mestimator\u001B[49m\u001B[38;5;241;43m=\u001B[39;49m\u001B[43mestimator\u001B[49m\u001B[43m,\u001B[49m\n\u001B[1;32m   2124\u001B[0m \u001B[43m        \u001B[49m\u001B[43mplot\u001B[49m\u001B[38;5;241;43m=\u001B[39;49m\u001B[43mplot\u001B[49m\u001B[43m,\u001B[49m\n\u001B[1;32m   2125\u001B[0m \u001B[43m        \u001B[49m\u001B[43mfeature\u001B[49m\u001B[38;5;241;43m=\u001B[39;49m\u001B[43mfeature\u001B[49m\u001B[43m,\u001B[49m\n\u001B[1;32m   2126\u001B[0m \u001B[43m        \u001B[49m\u001B[43mobservation\u001B[49m\u001B[38;5;241;43m=\u001B[39;49m\u001B[43mobservation\u001B[49m\u001B[43m,\u001B[49m\n\u001B[1;32m   2127\u001B[0m \u001B[43m        \u001B[49m\u001B[43muse_train_data\u001B[49m\u001B[38;5;241;43m=\u001B[39;49m\u001B[43muse_train_data\u001B[49m\u001B[43m,\u001B[49m\n\u001B[1;32m   2128\u001B[0m \u001B[43m        \u001B[49m\u001B[43mX_new_sample\u001B[49m\u001B[38;5;241;43m=\u001B[39;49m\u001B[43mX_new_sample\u001B[49m\u001B[43m,\u001B[49m\n\u001B[1;32m   2129\u001B[0m \u001B[43m        \u001B[49m\u001B[43my_new_sample\u001B[49m\u001B[38;5;241;43m=\u001B[39;49m\u001B[43my_new_sample\u001B[49m\u001B[43m,\u001B[49m\n\u001B[1;32m   2130\u001B[0m \u001B[43m        \u001B[49m\u001B[43msave\u001B[49m\u001B[38;5;241;43m=\u001B[39;49m\u001B[43msave\u001B[49m\u001B[43m,\u001B[49m\n\u001B[1;32m   2131\u001B[0m \u001B[43m        \u001B[49m\u001B[38;5;241;43m*\u001B[39;49m\u001B[38;5;241;43m*\u001B[39;49m\u001B[43mkwargs\u001B[49m\u001B[43m,\u001B[49m\n\u001B[1;32m   2132\u001B[0m \u001B[43m    \u001B[49m\u001B[43m)\u001B[49m\n",
      "File \u001B[0;32m~/.conda/envs/myFirstCrawl/lib/python3.9/site-packages/pycaret/internal/pycaret_experiment/supervised_experiment.py:4051\u001B[0m, in \u001B[0;36m_SupervisedExperiment.interpret_model\u001B[0;34m(self, estimator, plot, feature, observation, use_train_data, X_new_sample, y_new_sample, save, **kwargs)\u001B[0m\n\u001B[1;32m   4049\u001B[0m \u001B[38;5;66;03m# checking if shap available\u001B[39;00m\n\u001B[1;32m   4050\u001B[0m \u001B[38;5;28;01mif\u001B[39;00m plot \u001B[38;5;129;01min\u001B[39;00m [\u001B[38;5;124m\"\u001B[39m\u001B[38;5;124msummary\u001B[39m\u001B[38;5;124m\"\u001B[39m, \u001B[38;5;124m\"\u001B[39m\u001B[38;5;124mcorrelation\u001B[39m\u001B[38;5;124m\"\u001B[39m, \u001B[38;5;124m\"\u001B[39m\u001B[38;5;124mreason\u001B[39m\u001B[38;5;124m\"\u001B[39m]:\n\u001B[0;32m-> 4051\u001B[0m     \u001B[43m_check_soft_dependencies\u001B[49m\u001B[43m(\u001B[49m\u001B[38;5;124;43m\"\u001B[39;49m\u001B[38;5;124;43mshap\u001B[39;49m\u001B[38;5;124;43m\"\u001B[39;49m\u001B[43m,\u001B[49m\u001B[43m \u001B[49m\u001B[43mextra\u001B[49m\u001B[38;5;241;43m=\u001B[39;49m\u001B[38;5;124;43m\"\u001B[39;49m\u001B[38;5;124;43manalysis\u001B[39;49m\u001B[38;5;124;43m\"\u001B[39;49m\u001B[43m,\u001B[49m\u001B[43m \u001B[49m\u001B[43mseverity\u001B[49m\u001B[38;5;241;43m=\u001B[39;49m\u001B[38;5;124;43m\"\u001B[39;49m\u001B[38;5;124;43merror\u001B[39;49m\u001B[38;5;124;43m\"\u001B[39;49m\u001B[43m)\u001B[49m\n\u001B[1;32m   4052\u001B[0m     \u001B[38;5;28;01mimport\u001B[39;00m \u001B[38;5;21;01mshap\u001B[39;00m\n\u001B[1;32m   4054\u001B[0m \u001B[38;5;66;03m# checking if pdpbox is available\u001B[39;00m\n",
      "File \u001B[0;32m~/.conda/envs/myFirstCrawl/lib/python3.9/site-packages/pycaret/utils/_dependencies.py:152\u001B[0m, in \u001B[0;36m_check_soft_dependencies\u001B[0;34m(package, severity, extra, install_name)\u001B[0m\n\u001B[1;32m    150\u001B[0m \u001B[38;5;28;01mif\u001B[39;00m severity \u001B[38;5;241m==\u001B[39m \u001B[38;5;124m\"\u001B[39m\u001B[38;5;124merror\u001B[39m\u001B[38;5;124m\"\u001B[39m:\n\u001B[1;32m    151\u001B[0m     logger\u001B[38;5;241m.\u001B[39mexception(\u001B[38;5;124mf\u001B[39m\u001B[38;5;124m\"\u001B[39m\u001B[38;5;132;01m{\u001B[39;00mmsg\u001B[38;5;132;01m}\u001B[39;00m\u001B[38;5;124m\"\u001B[39m)\n\u001B[0;32m--> 152\u001B[0m     \u001B[38;5;28;01mraise\u001B[39;00m \u001B[38;5;167;01mModuleNotFoundError\u001B[39;00m(msg)\n\u001B[1;32m    153\u001B[0m \u001B[38;5;28;01melif\u001B[39;00m severity \u001B[38;5;241m==\u001B[39m \u001B[38;5;124m\"\u001B[39m\u001B[38;5;124mwarning\u001B[39m\u001B[38;5;124m\"\u001B[39m:\n\u001B[1;32m    154\u001B[0m     logger\u001B[38;5;241m.\u001B[39mwarning(\u001B[38;5;124mf\u001B[39m\u001B[38;5;124m\"\u001B[39m\u001B[38;5;132;01m{\u001B[39;00mmsg\u001B[38;5;132;01m}\u001B[39;00m\u001B[38;5;124m\"\u001B[39m)\n",
      "\u001B[0;31mModuleNotFoundError\u001B[0m: \n'shap' is a soft dependency and not included in the pycaret installation. Please run: `pip install shap` to install.\nAlternately, you can install this by running `pip install pycaret[analysis]`"
     ]
    }
   ],
   "source": [
    "interpret_model(best)"
   ],
   "metadata": {
    "collapsed": false,
    "ExecuteTime": {
     "end_time": "2024-08-23T07:00:43.582958Z",
     "start_time": "2024-08-23T07:00:43.542539Z"
    }
   },
   "id": "976d0bc8fc830820",
   "execution_count": 14
  },
  {
   "cell_type": "code",
   "outputs": [],
   "source": [],
   "metadata": {
    "collapsed": false
   },
   "id": "7919a4aa7b4eb1c"
  }
 ],
 "metadata": {
  "kernelspec": {
   "display_name": "Python 3",
   "language": "python",
   "name": "python3"
  },
  "language_info": {
   "codemirror_mode": {
    "name": "ipython",
    "version": 2
   },
   "file_extension": ".py",
   "mimetype": "text/x-python",
   "name": "python",
   "nbconvert_exporter": "python",
   "pygments_lexer": "ipython2",
   "version": "2.7.6"
  }
 },
 "nbformat": 4,
 "nbformat_minor": 5
}
